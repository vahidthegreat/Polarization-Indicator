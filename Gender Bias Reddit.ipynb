{
 "cells": [
  {
   "cell_type": "code",
   "execution_count": 1,
   "metadata": {
    "colab": {
     "base_uri": "https://localhost:8080/"
    },
    "executionInfo": {
     "elapsed": 18457,
     "status": "ok",
     "timestamp": 1627739756031,
     "user": {
      "displayName": "Vahid Ghafouri (Alumni)",
      "photoUrl": "https://lh3.googleusercontent.com/a-/AOh14GiiG2OgIYwDWYdBXjHKk4ZMJWWcsu93cdBXihlG=s64",
      "userId": "00889646059215470085"
     },
     "user_tz": -120
    },
    "id": "NTxPrRbuC6CJ",
    "outputId": "b959f29e-375b-4934-ce0e-52ae1131d843"
   },
   "outputs": [
    {
     "name": "stdout",
     "output_type": "stream",
     "text": [
      "Mounted at /content/drive\n"
     ]
    }
   ],
   "source": [
    "# from google.colab import drive\n",
    "# drive.mount('/content/drive')"
   ]
  },
  {
   "cell_type": "code",
   "execution_count": 1,
   "metadata": {},
   "outputs": [
    {
     "name": "stdout",
     "output_type": "stream",
     "text": [
      "Requirement already satisfied: jupyterlab_tabnine in ./.local/lib/python3.8/site-packages (0.0.24)\r\n"
     ]
    }
   ],
   "source": [
    "!pip3 install jupyterlab_tabnine"
   ]
  },
  {
   "cell_type": "code",
   "execution_count": 1,
   "metadata": {
    "colab": {
     "base_uri": "https://localhost:8080/"
    },
    "executionInfo": {
     "elapsed": 12996,
     "status": "ok",
     "timestamp": 1627739888753,
     "user": {
      "displayName": "Vahid Ghafouri (Alumni)",
      "photoUrl": "https://lh3.googleusercontent.com/a-/AOh14GiiG2OgIYwDWYdBXjHKk4ZMJWWcsu93cdBXihlG=s64",
      "userId": "00889646059215470085"
     },
     "user_tz": -120
    },
    "id": "cc62mh4yELEJ",
    "outputId": "0ed7b34f-86a9-4bdb-a48e-82c7665e89cf"
   },
   "outputs": [
    {
     "name": "stdout",
     "output_type": "stream",
     "text": [
      "Requirement already satisfied: ipython-autotime in ./.local/lib/python3.8/site-packages (0.3.1)\n",
      "Requirement already satisfied: ipython in ./.local/lib/python3.8/site-packages (from ipython-autotime) (7.25.0)\n",
      "Requirement already satisfied: pickleshare in ./.local/lib/python3.8/site-packages (from ipython->ipython-autotime) (0.7.5)\n",
      "Requirement already satisfied: decorator in ./.local/lib/python3.8/site-packages (from ipython->ipython-autotime) (5.0.9)\n",
      "Requirement already satisfied: setuptools>=18.5 in /usr/lib/python3/dist-packages (from ipython->ipython-autotime) (45.2.0)\n",
      "Requirement already satisfied: pygments in ./.local/lib/python3.8/site-packages (from ipython->ipython-autotime) (2.9.0)\n",
      "Requirement already satisfied: prompt-toolkit!=3.0.0,!=3.0.1,<3.1.0,>=2.0.0 in ./.local/lib/python3.8/site-packages (from ipython->ipython-autotime) (3.0.19)\n",
      "Requirement already satisfied: jedi>=0.16 in ./.local/lib/python3.8/site-packages (from ipython->ipython-autotime) (0.18.0)\n",
      "Requirement already satisfied: backcall in ./.local/lib/python3.8/site-packages (from ipython->ipython-autotime) (0.2.0)\n",
      "Requirement already satisfied: traitlets>=4.2 in ./.local/lib/python3.8/site-packages (from ipython->ipython-autotime) (5.0.5)\n",
      "Requirement already satisfied: pexpect>4.3; sys_platform != \"win32\" in /usr/lib/python3/dist-packages (from ipython->ipython-autotime) (4.6.0)\n",
      "Requirement already satisfied: matplotlib-inline in ./.local/lib/python3.8/site-packages (from ipython->ipython-autotime) (0.1.2)\n",
      "Requirement already satisfied: wcwidth in ./.local/lib/python3.8/site-packages (from prompt-toolkit!=3.0.0,!=3.0.1,<3.1.0,>=2.0.0->ipython->ipython-autotime) (0.2.5)\n",
      "Requirement already satisfied: parso<0.9.0,>=0.8.0 in ./.local/lib/python3.8/site-packages (from jedi>=0.16->ipython->ipython-autotime) (0.8.2)\n",
      "Requirement already satisfied: ipython-genutils in ./.local/lib/python3.8/site-packages (from traitlets>=4.2->ipython->ipython-autotime) (0.2.0)\n",
      "Requirement already satisfied: swifter in ./.local/lib/python3.8/site-packages (1.0.9)\n",
      "Requirement already satisfied: cloudpickle>=0.2.2 in ./.local/lib/python3.8/site-packages (from swifter) (1.6.0)\n",
      "Requirement already satisfied: psutil>=5.6.6 in ./.local/lib/python3.8/site-packages (from swifter) (5.8.0)\n",
      "Requirement already satisfied: tqdm>=4.33.0 in ./.local/lib/python3.8/site-packages (from swifter) (4.61.2)\n",
      "Requirement already satisfied: parso>0.4.0 in ./.local/lib/python3.8/site-packages (from swifter) (0.8.2)\n",
      "Requirement already satisfied: bleach>=3.1.1 in ./.local/lib/python3.8/site-packages (from swifter) (3.3.1)\n",
      "Requirement already satisfied: ipywidgets>=7.0.0 in ./.local/lib/python3.8/site-packages (from swifter) (7.6.3)\n",
      "Requirement already satisfied: pandas>=1.0.0 in ./.local/lib/python3.8/site-packages (from swifter) (1.3.1)\n",
      "Requirement already satisfied: dask[dataframe]>=2.10.0 in ./.local/lib/python3.8/site-packages (from swifter) (2021.7.1)\n",
      "Requirement already satisfied: webencodings in ./.local/lib/python3.8/site-packages (from bleach>=3.1.1->swifter) (0.5.1)\n",
      "Requirement already satisfied: packaging in ./.local/lib/python3.8/site-packages (from bleach>=3.1.1->swifter) (21.0)\n",
      "Requirement already satisfied: six>=1.9.0 in /usr/local/lib/python3.8/dist-packages (from bleach>=3.1.1->swifter) (1.15.0)\n",
      "Requirement already satisfied: nbformat>=4.2.0 in ./.local/lib/python3.8/site-packages (from ipywidgets>=7.0.0->swifter) (5.1.3)\n",
      "Requirement already satisfied: ipykernel>=4.5.1 in ./.local/lib/python3.8/site-packages (from ipywidgets>=7.0.0->swifter) (6.0.3)\n",
      "Requirement already satisfied: traitlets>=4.3.1 in ./.local/lib/python3.8/site-packages (from ipywidgets>=7.0.0->swifter) (5.0.5)\n",
      "Requirement already satisfied: widgetsnbextension~=3.5.0 in ./.local/lib/python3.8/site-packages (from ipywidgets>=7.0.0->swifter) (3.5.1)\n",
      "Requirement already satisfied: jupyterlab-widgets>=1.0.0; python_version >= \"3.6\" in ./.local/lib/python3.8/site-packages (from ipywidgets>=7.0.0->swifter) (1.0.0)\n",
      "Requirement already satisfied: ipython>=4.0.0; python_version >= \"3.3\" in ./.local/lib/python3.8/site-packages (from ipywidgets>=7.0.0->swifter) (7.25.0)\n",
      "Requirement already satisfied: pytz>=2017.3 in /usr/lib/python3/dist-packages (from pandas>=1.0.0->swifter) (2019.3)\n",
      "Requirement already satisfied: numpy>=1.17.3 in ./.local/lib/python3.8/site-packages (from pandas>=1.0.0->swifter) (1.21.2)\n",
      "Requirement already satisfied: python-dateutil>=2.7.3 in ./.local/lib/python3.8/site-packages (from pandas>=1.0.0->swifter) (2.8.2)\n",
      "Requirement already satisfied: pyyaml in /usr/lib/python3/dist-packages (from dask[dataframe]>=2.10.0->swifter) (5.3.1)\n",
      "Requirement already satisfied: fsspec>=0.6.0 in ./.local/lib/python3.8/site-packages (from dask[dataframe]>=2.10.0->swifter) (2021.7.0)\n",
      "Requirement already satisfied: partd>=0.3.10 in ./.local/lib/python3.8/site-packages (from dask[dataframe]>=2.10.0->swifter) (1.2.0)\n",
      "Requirement already satisfied: toolz>=0.8.2 in ./.local/lib/python3.8/site-packages (from dask[dataframe]>=2.10.0->swifter) (0.11.1)\n",
      "Requirement already satisfied: pyparsing>=2.0.2 in ./.local/lib/python3.8/site-packages (from packaging->bleach>=3.1.1->swifter) (2.4.7)\n",
      "Requirement already satisfied: jsonschema!=2.5.0,>=2.4 in /usr/lib/python3/dist-packages (from nbformat>=4.2.0->ipywidgets>=7.0.0->swifter) (3.2.0)\n",
      "Requirement already satisfied: ipython-genutils in ./.local/lib/python3.8/site-packages (from nbformat>=4.2.0->ipywidgets>=7.0.0->swifter) (0.2.0)\n",
      "Requirement already satisfied: jupyter-core in ./.local/lib/python3.8/site-packages (from nbformat>=4.2.0->ipywidgets>=7.0.0->swifter) (4.7.1)\n",
      "Requirement already satisfied: matplotlib-inline<0.2.0,>=0.1.0 in ./.local/lib/python3.8/site-packages (from ipykernel>=4.5.1->ipywidgets>=7.0.0->swifter) (0.1.2)\n",
      "Requirement already satisfied: debugpy<2.0,>=1.0.0 in ./.local/lib/python3.8/site-packages (from ipykernel>=4.5.1->ipywidgets>=7.0.0->swifter) (1.4.1)\n",
      "Requirement already satisfied: jupyter-client<7.0 in ./.local/lib/python3.8/site-packages (from ipykernel>=4.5.1->ipywidgets>=7.0.0->swifter) (6.1.12)\n",
      "Requirement already satisfied: tornado<7.0,>=4.2 in ./.local/lib/python3.8/site-packages (from ipykernel>=4.5.1->ipywidgets>=7.0.0->swifter) (6.1)\n",
      "Requirement already satisfied: notebook>=4.4.1 in ./.local/lib/python3.8/site-packages (from widgetsnbextension~=3.5.0->ipywidgets>=7.0.0->swifter) (6.4.0)\n",
      "Requirement already satisfied: prompt-toolkit!=3.0.0,!=3.0.1,<3.1.0,>=2.0.0 in ./.local/lib/python3.8/site-packages (from ipython>=4.0.0; python_version >= \"3.3\"->ipywidgets>=7.0.0->swifter) (3.0.19)\n",
      "Requirement already satisfied: decorator in ./.local/lib/python3.8/site-packages (from ipython>=4.0.0; python_version >= \"3.3\"->ipywidgets>=7.0.0->swifter) (5.0.9)\n",
      "Requirement already satisfied: pickleshare in ./.local/lib/python3.8/site-packages (from ipython>=4.0.0; python_version >= \"3.3\"->ipywidgets>=7.0.0->swifter) (0.7.5)\n",
      "Requirement already satisfied: pygments in ./.local/lib/python3.8/site-packages (from ipython>=4.0.0; python_version >= \"3.3\"->ipywidgets>=7.0.0->swifter) (2.9.0)\n",
      "Requirement already satisfied: jedi>=0.16 in ./.local/lib/python3.8/site-packages (from ipython>=4.0.0; python_version >= \"3.3\"->ipywidgets>=7.0.0->swifter) (0.18.0)\n",
      "Requirement already satisfied: backcall in ./.local/lib/python3.8/site-packages (from ipython>=4.0.0; python_version >= \"3.3\"->ipywidgets>=7.0.0->swifter) (0.2.0)\n",
      "Requirement already satisfied: setuptools>=18.5 in /usr/lib/python3/dist-packages (from ipython>=4.0.0; python_version >= \"3.3\"->ipywidgets>=7.0.0->swifter) (45.2.0)\n",
      "Requirement already satisfied: pexpect>4.3; sys_platform != \"win32\" in /usr/lib/python3/dist-packages (from ipython>=4.0.0; python_version >= \"3.3\"->ipywidgets>=7.0.0->swifter) (4.6.0)\n",
      "Requirement already satisfied: locket in ./.local/lib/python3.8/site-packages (from partd>=0.3.10->dask[dataframe]>=2.10.0->swifter) (0.2.1)\n",
      "Requirement already satisfied: pyzmq>=13 in ./.local/lib/python3.8/site-packages (from jupyter-client<7.0->ipykernel>=4.5.1->ipywidgets>=7.0.0->swifter) (22.1.0)\n",
      "Requirement already satisfied: nbconvert in ./.local/lib/python3.8/site-packages (from notebook>=4.4.1->widgetsnbextension~=3.5.0->ipywidgets>=7.0.0->swifter) (6.1.0)\n"
     ]
    },
    {
     "name": "stdout",
     "output_type": "stream",
     "text": [
      "Requirement already satisfied: terminado>=0.8.3 in ./.local/lib/python3.8/site-packages (from notebook>=4.4.1->widgetsnbextension~=3.5.0->ipywidgets>=7.0.0->swifter) (0.10.1)\n",
      "Requirement already satisfied: prometheus-client in ./.local/lib/python3.8/site-packages (from notebook>=4.4.1->widgetsnbextension~=3.5.0->ipywidgets>=7.0.0->swifter) (0.11.0)\n",
      "Requirement already satisfied: argon2-cffi in ./.local/lib/python3.8/site-packages (from notebook>=4.4.1->widgetsnbextension~=3.5.0->ipywidgets>=7.0.0->swifter) (20.1.0)\n",
      "Requirement already satisfied: Send2Trash>=1.5.0 in ./.local/lib/python3.8/site-packages (from notebook>=4.4.1->widgetsnbextension~=3.5.0->ipywidgets>=7.0.0->swifter) (1.7.1)\n",
      "Requirement already satisfied: jinja2 in /usr/local/lib/python3.8/dist-packages (from notebook>=4.4.1->widgetsnbextension~=3.5.0->ipywidgets>=7.0.0->swifter) (3.0.1)\n",
      "Requirement already satisfied: wcwidth in ./.local/lib/python3.8/site-packages (from prompt-toolkit!=3.0.0,!=3.0.1,<3.1.0,>=2.0.0->ipython>=4.0.0; python_version >= \"3.3\"->ipywidgets>=7.0.0->swifter) (0.2.5)\n",
      "Requirement already satisfied: testpath in ./.local/lib/python3.8/site-packages (from nbconvert->notebook>=4.4.1->widgetsnbextension~=3.5.0->ipywidgets>=7.0.0->swifter) (0.5.0)\n",
      "Requirement already satisfied: defusedxml in ./.local/lib/python3.8/site-packages (from nbconvert->notebook>=4.4.1->widgetsnbextension~=3.5.0->ipywidgets>=7.0.0->swifter) (0.7.1)\n",
      "Requirement already satisfied: pandocfilters>=1.4.1 in ./.local/lib/python3.8/site-packages (from nbconvert->notebook>=4.4.1->widgetsnbextension~=3.5.0->ipywidgets>=7.0.0->swifter) (1.4.3)\n",
      "Requirement already satisfied: nbclient<0.6.0,>=0.5.0 in ./.local/lib/python3.8/site-packages (from nbconvert->notebook>=4.4.1->widgetsnbextension~=3.5.0->ipywidgets>=7.0.0->swifter) (0.5.3)\n",
      "Requirement already satisfied: mistune<2,>=0.8.1 in ./.local/lib/python3.8/site-packages (from nbconvert->notebook>=4.4.1->widgetsnbextension~=3.5.0->ipywidgets>=7.0.0->swifter) (0.8.4)\n",
      "Requirement already satisfied: entrypoints>=0.2.2 in /usr/lib/python3/dist-packages (from nbconvert->notebook>=4.4.1->widgetsnbextension~=3.5.0->ipywidgets>=7.0.0->swifter) (0.3)\n",
      "Requirement already satisfied: jupyterlab-pygments in ./.local/lib/python3.8/site-packages (from nbconvert->notebook>=4.4.1->widgetsnbextension~=3.5.0->ipywidgets>=7.0.0->swifter) (0.1.2)\n",
      "Requirement already satisfied: ptyprocess; os_name != \"nt\" in ./.local/lib/python3.8/site-packages (from terminado>=0.8.3->notebook>=4.4.1->widgetsnbextension~=3.5.0->ipywidgets>=7.0.0->swifter) (0.7.0)\n",
      "Requirement already satisfied: cffi>=1.0.0 in ./.local/lib/python3.8/site-packages (from argon2-cffi->notebook>=4.4.1->widgetsnbextension~=3.5.0->ipywidgets>=7.0.0->swifter) (1.14.6)\n",
      "Requirement already satisfied: MarkupSafe>=2.0 in /usr/local/lib/python3.8/dist-packages (from jinja2->notebook>=4.4.1->widgetsnbextension~=3.5.0->ipywidgets>=7.0.0->swifter) (2.0.1)\n",
      "Requirement already satisfied: nest-asyncio in ./.local/lib/python3.8/site-packages (from nbclient<0.6.0,>=0.5.0->nbconvert->notebook>=4.4.1->widgetsnbextension~=3.5.0->ipywidgets>=7.0.0->swifter) (1.5.1)\n",
      "Requirement already satisfied: async-generator in ./.local/lib/python3.8/site-packages (from nbclient<0.6.0,>=0.5.0->nbconvert->notebook>=4.4.1->widgetsnbextension~=3.5.0->ipywidgets>=7.0.0->swifter) (1.10)\n",
      "Requirement already satisfied: pycparser in ./.local/lib/python3.8/site-packages (from cffi>=1.0.0->argon2-cffi->notebook>=4.4.1->widgetsnbextension~=3.5.0->ipywidgets>=7.0.0->swifter) (2.20)\n",
      "Requirement already satisfied: imageio in ./.local/lib/python3.8/site-packages (2.9.0)\n",
      "Requirement already satisfied: pillow in /usr/local/lib/python3.8/dist-packages (from imageio) (8.3.1)\n",
      "Requirement already satisfied: numpy in ./.local/lib/python3.8/site-packages (from imageio) (1.21.2)\n",
      "Requirement already satisfied: twython in ./.local/lib/python3.8/site-packages (3.9.1)\n",
      "Requirement already satisfied: requests>=2.1.0 in /usr/lib/python3/dist-packages (from twython) (2.22.0)\n",
      "Requirement already satisfied: requests-oauthlib>=0.4.0 in /usr/local/lib/python3.8/dist-packages (from twython) (1.3.0)\n",
      "Requirement already satisfied: oauthlib>=3.0.0 in /usr/lib/python3/dist-packages (from requests-oauthlib>=0.4.0->twython) (3.1.0)\n"
     ]
    },
    {
     "name": "stderr",
     "output_type": "stream",
     "text": [
      "[nltk_data] Downloading package averaged_perceptron_tagger to\n",
      "[nltk_data]     /home/vahid_ghafouri/nltk_data...\n",
      "[nltk_data]   Package averaged_perceptron_tagger is already up-to-\n",
      "[nltk_data]       date!\n",
      "[nltk_data] Downloading package vader_lexicon to\n",
      "[nltk_data]     /home/vahid_ghafouri/nltk_data...\n",
      "[nltk_data]   Package vader_lexicon is already up-to-date!\n"
     ]
    },
    {
     "data": {
      "text/plain": [
       "True"
      ]
     },
     "execution_count": 1,
     "metadata": {},
     "output_type": "execute_result"
    }
   ],
   "source": [
    "# !pip3 install ipython-autotime\n",
    "# !pip3 install swifter\n",
    "# !pip3 install imageio\n",
    "# !pip3 install twython\n",
    "# import nltk\n",
    "\n",
    "# nltk.download('averaged_perceptron_tagger')\n",
    "# nltk.download('vader_lexicon')"
   ]
  },
  {
   "cell_type": "code",
   "execution_count": 3,
   "metadata": {
    "collapsed": true
   },
   "outputs": [
    {
     "name": "stdout",
     "output_type": "stream",
     "text": [
      "Collecting matplotlib\n",
      "  Downloading matplotlib-3.4.2-cp38-cp38-manylinux1_x86_64.whl (10.3 MB)\n",
      "\u001b[K     |████████████████████████████████| 10.3 MB 2.4 MB/s eta 0:00:01\n",
      "\u001b[?25hRequirement already satisfied: numpy>=1.16 in /usr/local/lib/python3.8/dist-packages (from matplotlib) (1.19.5)\n",
      "Collecting kiwisolver>=1.0.1\n",
      "  Downloading kiwisolver-1.3.1-cp38-cp38-manylinux1_x86_64.whl (1.2 MB)\n",
      "\u001b[K     |████████████████████████████████| 1.2 MB 45.1 MB/s eta 0:00:01\n",
      "\u001b[?25hRequirement already satisfied: pillow>=6.2.0 in /usr/local/lib/python3.8/dist-packages (from matplotlib) (8.3.1)\n",
      "Collecting cycler>=0.10\n",
      "  Downloading cycler-0.10.0-py2.py3-none-any.whl (6.5 kB)\n",
      "Requirement already satisfied: python-dateutil>=2.7 in ./.local/lib/python3.8/site-packages (from matplotlib) (2.8.2)\n",
      "Requirement already satisfied: pyparsing>=2.2.1 in ./.local/lib/python3.8/site-packages (from matplotlib) (2.4.7)\n",
      "Requirement already satisfied: six in /usr/local/lib/python3.8/dist-packages (from cycler>=0.10->matplotlib) (1.15.0)\n",
      "Installing collected packages: kiwisolver, cycler, matplotlib\n",
      "Successfully installed cycler-0.10.0 kiwisolver-1.3.1 matplotlib-3.4.2\n",
      "\u001b[31mERROR: Could not find a version that satisfies the requirement PIL (from versions: none)\u001b[0m\n",
      "\u001b[31mERROR: No matching distribution found for PIL\u001b[0m\n",
      "Collecting wordcloud\n",
      "  Downloading wordcloud-1.8.1-cp38-cp38-manylinux1_x86_64.whl (371 kB)\n",
      "\u001b[K     |████████████████████████████████| 371 kB 2.5 MB/s eta 0:00:01\n",
      "\u001b[?25hRequirement already satisfied: matplotlib in ./.local/lib/python3.8/site-packages (from wordcloud) (3.4.2)\n",
      "Requirement already satisfied: pillow in /usr/local/lib/python3.8/dist-packages (from wordcloud) (8.3.1)\n",
      "Requirement already satisfied: numpy>=1.6.1 in /usr/local/lib/python3.8/dist-packages (from wordcloud) (1.19.5)\n",
      "Requirement already satisfied: cycler>=0.10 in ./.local/lib/python3.8/site-packages (from matplotlib->wordcloud) (0.10.0)\n",
      "Requirement already satisfied: python-dateutil>=2.7 in ./.local/lib/python3.8/site-packages (from matplotlib->wordcloud) (2.8.2)\n",
      "Requirement already satisfied: kiwisolver>=1.0.1 in ./.local/lib/python3.8/site-packages (from matplotlib->wordcloud) (1.3.1)\n",
      "Requirement already satisfied: pyparsing>=2.2.1 in ./.local/lib/python3.8/site-packages (from matplotlib->wordcloud) (2.4.7)\n",
      "Requirement already satisfied: six in /usr/local/lib/python3.8/dist-packages (from cycler>=0.10->matplotlib->wordcloud) (1.15.0)\n",
      "Installing collected packages: wordcloud\n",
      "Successfully installed wordcloud-1.8.1\n",
      "time: 15.9 s (started: 2021-08-02 09:55:38 +00:00)\n"
     ]
    }
   ],
   "source": [
    "# !pip3 install matplotlib\n",
    "# !pip3 install PIL\n",
    "# !pip3 install wordcloud"
   ]
  },
  {
   "cell_type": "code",
   "execution_count": 1,
   "metadata": {
    "scrolled": true
   },
   "outputs": [
    {
     "name": "stdout",
     "output_type": "stream",
     "text": [
      "time: 483 µs (started: 2022-05-05 13:22:43 +00:00)\n"
     ]
    }
   ],
   "source": [
    "from Gender_Bias_Reddit_Library import *\n",
    "%load_ext autotime"
   ]
  },
  {
   "cell_type": "code",
   "execution_count": 2,
   "metadata": {
    "scrolled": false
   },
   "outputs": [
    {
     "name": "stdout",
     "output_type": "stream",
     "text": [
      "\u001b[31mnonToxic\u001b[0m\n",
      "Misandry is: (0.0023791849506723224, 0.002086407787163914, 0.002671962114180731)\n",
      "Misogyny is: (0.0019793890016331006, 0.001880047742264189, 0.002078730261002012)\n",
      "Sexism is: -0.0003997959490392219\n"
     ]
    },
    {
     "name": "stderr",
     "output_type": "stream",
     "text": [
      "/tmp/ipykernel_3044159/1552056546.py:60: FutureWarning: The frame.append method is deprecated and will be removed from pandas in a future version. Use pandas.concat instead.\n",
      "  sexism_ethnic = sexism_ethnic.append({'community':subreddit_to_crawl, 'misandry_mean':mean_confidence_interval(misandry)[0], 'misandry_LB':mean_confidence_interval(misandry)[1],\n"
     ]
    },
    {
     "name": "stdout",
     "output_type": "stream",
     "text": [
      "\n",
      "\n",
      "\u001b[31mrandom\u001b[0m\n",
      "Misandry is: (0.0033122397699404753, 0.003195628732380373, 0.0034288508075005775)\n",
      "Misogyny is: (0.003583752651563484, 0.0033820498252888145, 0.0037854554778381537)\n",
      "Sexism is: 0.00027151288162300877\n",
      "\n",
      "\n",
      "\u001b[31mTheRedPill\u001b[0m\n"
     ]
    },
    {
     "name": "stderr",
     "output_type": "stream",
     "text": [
      "/tmp/ipykernel_3044159/1552056546.py:60: FutureWarning: The frame.append method is deprecated and will be removed from pandas in a future version. Use pandas.concat instead.\n",
      "  sexism_ethnic = sexism_ethnic.append({'community':subreddit_to_crawl, 'misandry_mean':mean_confidence_interval(misandry)[0], 'misandry_LB':mean_confidence_interval(misandry)[1],\n"
     ]
    },
    {
     "name": "stdout",
     "output_type": "stream",
     "text": [
      "Misandry is: (0.0026510265956057296, 0.0024974335481320713, 0.002804619643079388)\n",
      "Misogyny is: (0.005864681449430875, 0.005559789018393103, 0.006169573880468648)\n",
      "Sexism is: 0.003213654853825146\n",
      "\n",
      "\n",
      "\u001b[31mMGTOW\u001b[0m\n"
     ]
    },
    {
     "name": "stderr",
     "output_type": "stream",
     "text": [
      "/tmp/ipykernel_3044159/1552056546.py:60: FutureWarning: The frame.append method is deprecated and will be removed from pandas in a future version. Use pandas.concat instead.\n",
      "  sexism_ethnic = sexism_ethnic.append({'community':subreddit_to_crawl, 'misandry_mean':mean_confidence_interval(misandry)[0], 'misandry_LB':mean_confidence_interval(misandry)[1],\n"
     ]
    },
    {
     "name": "stdout",
     "output_type": "stream",
     "text": [
      "Misandry is: (0.0025030852564743387, 0.002373433808012394, 0.0026327367049362835)\n",
      "Misogyny is: (0.006071469701892548, 0.0057991488580795125, 0.006343790545705583)\n",
      "Sexism is: 0.0035683844454182092\n",
      "\n",
      "\n",
      "\u001b[31mMGTOW2\u001b[0m\n"
     ]
    },
    {
     "name": "stderr",
     "output_type": "stream",
     "text": [
      "/tmp/ipykernel_3044159/1552056546.py:60: FutureWarning: The frame.append method is deprecated and will be removed from pandas in a future version. Use pandas.concat instead.\n",
      "  sexism_ethnic = sexism_ethnic.append({'community':subreddit_to_crawl, 'misandry_mean':mean_confidence_interval(misandry)[0], 'misandry_LB':mean_confidence_interval(misandry)[1],\n"
     ]
    },
    {
     "name": "stdout",
     "output_type": "stream",
     "text": [
      "Misandry is: (0.0020909217525819784, 0.001983075732804072, 0.0021987677723598847)\n",
      "Misogyny is: (0.005425592343015784, 0.005242197479457398, 0.00560898720657417)\n",
      "Sexism is: 0.0033346705904338057\n",
      "\n",
      "\n",
      "\u001b[31mMensRights\u001b[0m\n"
     ]
    },
    {
     "name": "stderr",
     "output_type": "stream",
     "text": [
      "/tmp/ipykernel_3044159/1552056546.py:60: FutureWarning: The frame.append method is deprecated and will be removed from pandas in a future version. Use pandas.concat instead.\n",
      "  sexism_ethnic = sexism_ethnic.append({'community':subreddit_to_crawl, 'misandry_mean':mean_confidence_interval(misandry)[0], 'misandry_LB':mean_confidence_interval(misandry)[1],\n"
     ]
    },
    {
     "name": "stdout",
     "output_type": "stream",
     "text": [
      "Misandry is: (0.002270307670851874, 0.00209844527825358, 0.0024421700634501683)\n",
      "Misogyny is: (0.0028507128275418623, 0.0026899119789614173, 0.0030115136761223074)\n",
      "Sexism is: 0.0005804051566899882\n",
      "\n",
      "\n",
      "\u001b[31mMensLib\u001b[0m\n"
     ]
    },
    {
     "name": "stderr",
     "output_type": "stream",
     "text": [
      "/tmp/ipykernel_3044159/1552056546.py:60: FutureWarning: The frame.append method is deprecated and will be removed from pandas in a future version. Use pandas.concat instead.\n",
      "  sexism_ethnic = sexism_ethnic.append({'community':subreddit_to_crawl, 'misandry_mean':mean_confidence_interval(misandry)[0], 'misandry_LB':mean_confidence_interval(misandry)[1],\n"
     ]
    },
    {
     "name": "stdout",
     "output_type": "stream",
     "text": [
      "Misandry is: (0.0018355247298658451, 0.0017755768523761613, 0.001895472607355529)\n",
      "Misogyny is: (0.003211289469518008, 0.0031149386114080403, 0.0033076403276279752)\n",
      "Sexism is: 0.0013757647396521627\n",
      "\n",
      "\n",
      "\u001b[31mTrollYChromosome\u001b[0m\n"
     ]
    },
    {
     "name": "stderr",
     "output_type": "stream",
     "text": [
      "/tmp/ipykernel_3044159/1552056546.py:60: FutureWarning: The frame.append method is deprecated and will be removed from pandas in a future version. Use pandas.concat instead.\n",
      "  sexism_ethnic = sexism_ethnic.append({'community':subreddit_to_crawl, 'misandry_mean':mean_confidence_interval(misandry)[0], 'misandry_LB':mean_confidence_interval(misandry)[1],\n"
     ]
    },
    {
     "name": "stdout",
     "output_type": "stream",
     "text": [
      "Misandry is: (0.0032378612342552904, 0.003017493403180915, 0.003458229065329666)\n",
      "Misogyny is: (0.004147179283047827, 0.0038641706082554726, 0.0044301879578401825)\n",
      "Sexism is: 0.000909318048792537\n",
      "\n",
      "\n",
      "\u001b[31mIncelTear\u001b[0m\n"
     ]
    },
    {
     "name": "stderr",
     "output_type": "stream",
     "text": [
      "/tmp/ipykernel_3044159/1552056546.py:60: FutureWarning: The frame.append method is deprecated and will be removed from pandas in a future version. Use pandas.concat instead.\n",
      "  sexism_ethnic = sexism_ethnic.append({'community':subreddit_to_crawl, 'misandry_mean':mean_confidence_interval(misandry)[0], 'misandry_LB':mean_confidence_interval(misandry)[1],\n"
     ]
    },
    {
     "name": "stdout",
     "output_type": "stream",
     "text": [
      "Misandry is: (0.005359952206269029, 0.004959367297934957, 0.005760537114603101)\n",
      "Misogyny is: (0.010064832424712084, 0.009660134389708419, 0.01046953045971575)\n",
      "Sexism is: 0.004704880218443055\n",
      "\n",
      "\n",
      "\u001b[31mtrollxchromosomes\u001b[0m\n"
     ]
    },
    {
     "name": "stderr",
     "output_type": "stream",
     "text": [
      "/tmp/ipykernel_3044159/1552056546.py:60: FutureWarning: The frame.append method is deprecated and will be removed from pandas in a future version. Use pandas.concat instead.\n",
      "  sexism_ethnic = sexism_ethnic.append({'community':subreddit_to_crawl, 'misandry_mean':mean_confidence_interval(misandry)[0], 'misandry_LB':mean_confidence_interval(misandry)[1],\n"
     ]
    },
    {
     "name": "stdout",
     "output_type": "stream",
     "text": [
      "Misandry is: (0.003684309383645618, 0.0033839573138096895, 0.003984661453481546)\n",
      "Misogyny is: (0.003537767461291966, 0.0033374282709889187, 0.003738106651595013)\n",
      "Sexism is: -0.00014654192235365225\n",
      "\n",
      "\n",
      "\u001b[31mFemaleDatingStrategy\u001b[0m\n"
     ]
    },
    {
     "name": "stderr",
     "output_type": "stream",
     "text": [
      "/tmp/ipykernel_3044159/1552056546.py:60: FutureWarning: The frame.append method is deprecated and will be removed from pandas in a future version. Use pandas.concat instead.\n",
      "  sexism_ethnic = sexism_ethnic.append({'community':subreddit_to_crawl, 'misandry_mean':mean_confidence_interval(misandry)[0], 'misandry_LB':mean_confidence_interval(misandry)[1],\n"
     ]
    },
    {
     "name": "stdout",
     "output_type": "stream",
     "text": [
      "Misandry is: (0.005655770191704532, 0.005379622382939189, 0.005931918000469875)\n",
      "Misogyny is: (0.005436050397794992, 0.005246169830957675, 0.005625930964632308)\n",
      "Sexism is: -0.00021971979390953984\n",
      "\n",
      "\n",
      "\u001b[31mthegirlsurvivalguide\u001b[0m\n"
     ]
    },
    {
     "name": "stderr",
     "output_type": "stream",
     "text": [
      "/tmp/ipykernel_3044159/1552056546.py:60: FutureWarning: The frame.append method is deprecated and will be removed from pandas in a future version. Use pandas.concat instead.\n",
      "  sexism_ethnic = sexism_ethnic.append({'community':subreddit_to_crawl, 'misandry_mean':mean_confidence_interval(misandry)[0], 'misandry_LB':mean_confidence_interval(misandry)[1],\n"
     ]
    },
    {
     "name": "stdout",
     "output_type": "stream",
     "text": [
      "Misandry is: (0.003389369069493767, 0.0032346985984375567, 0.003544039540549977)\n",
      "Misogyny is: (0.0025371738771115806, 0.002404316469810462, 0.0026700312844126993)\n",
      "Sexism is: -0.0008521951923821862\n",
      "\n",
      "\n",
      "\u001b[31mFeminism\u001b[0m\n"
     ]
    },
    {
     "name": "stderr",
     "output_type": "stream",
     "text": [
      "/tmp/ipykernel_3044159/1552056546.py:60: FutureWarning: The frame.append method is deprecated and will be removed from pandas in a future version. Use pandas.concat instead.\n",
      "  sexism_ethnic = sexism_ethnic.append({'community':subreddit_to_crawl, 'misandry_mean':mean_confidence_interval(misandry)[0], 'misandry_LB':mean_confidence_interval(misandry)[1],\n"
     ]
    },
    {
     "name": "stdout",
     "output_type": "stream",
     "text": [
      "Misandry is: (0.0029580807880632233, 0.002793232475069011, 0.0031229291010574354)\n",
      "Misogyny is: (0.0023661952315844957, 0.002261501773299938, 0.0024708886898690535)\n",
      "Sexism is: -0.0005918855564787276\n",
      "\n",
      "\n",
      "\u001b[31mAskFeminists\u001b[0m\n"
     ]
    },
    {
     "name": "stderr",
     "output_type": "stream",
     "text": [
      "/tmp/ipykernel_3044159/1552056546.py:60: FutureWarning: The frame.append method is deprecated and will be removed from pandas in a future version. Use pandas.concat instead.\n",
      "  sexism_ethnic = sexism_ethnic.append({'community':subreddit_to_crawl, 'misandry_mean':mean_confidence_interval(misandry)[0], 'misandry_LB':mean_confidence_interval(misandry)[1],\n"
     ]
    },
    {
     "name": "stdout",
     "output_type": "stream",
     "text": [
      "Misandry is: (0.0017136698143529468, 0.0015757602893225191, 0.0018515793393833744)\n",
      "Misogyny is: (0.002190907308601376, 0.002081282742562856, 0.002300531874639896)\n",
      "Sexism is: 0.0004772374942484292\n",
      "\n",
      "\n",
      "\u001b[31maskwomen\u001b[0m\n"
     ]
    },
    {
     "name": "stderr",
     "output_type": "stream",
     "text": [
      "/tmp/ipykernel_3044159/1552056546.py:60: FutureWarning: The frame.append method is deprecated and will be removed from pandas in a future version. Use pandas.concat instead.\n",
      "  sexism_ethnic = sexism_ethnic.append({'community':subreddit_to_crawl, 'misandry_mean':mean_confidence_interval(misandry)[0], 'misandry_LB':mean_confidence_interval(misandry)[1],\n"
     ]
    },
    {
     "name": "stdout",
     "output_type": "stream",
     "text": [
      "Misandry is: (0.0020237768125261706, 0.0018462846630305147, 0.0022012689620218265)\n",
      "Misogyny is: (0.002855428459852892, 0.002700581679380927, 0.003010275240324857)\n",
      "Sexism is: 0.0008316516473267214\n",
      "\n",
      "\n",
      "time: 1min 48s (started: 2022-05-05 13:23:22 +00:00)\n"
     ]
    },
    {
     "name": "stderr",
     "output_type": "stream",
     "text": [
      "/tmp/ipykernel_3044159/1552056546.py:60: FutureWarning: The frame.append method is deprecated and will be removed from pandas in a future version. Use pandas.concat instead.\n",
      "  sexism_ethnic = sexism_ethnic.append({'community':subreddit_to_crawl, 'misandry_mean':mean_confidence_interval(misandry)[0], 'misandry_LB':mean_confidence_interval(misandry)[1],\n"
     ]
    }
   ],
   "source": [
    "# subreddits=['random','nonToxic','IncelTear','MGTOW','TheRedPill','Feminism','AskFeminists','askwomen',\n",
    "#             'trollxchromosomes','TrollYChromosome','MGTOW2', 'FemaleDatingStrategy','thegirlsurvivalguide',\n",
    "#             'MensRights','MensLib','AskMen']\n",
    "subreddits=['nonToxic','random','TheRedPill','MGTOW','MGTOW2','MensRights','MensLib' ,'TrollYChromosome',\n",
    "            'IncelTear',\n",
    "            'trollxchromosomes', 'FemaleDatingStrategy','thegirlsurvivalguide','Feminism','AskFeminists','askwomen']\n",
    "# subreddits=['trollxchromosomes']\n",
    "misandries=[]\n",
    "misogynies=[]\n",
    "misandry_error=[]\n",
    "misogyny_error=[]\n",
    "\n",
    "sexism_ethnic=pd.DataFrame()    \n",
    "\n",
    "pronoun = 'ethnic'\n",
    "for subreddit_to_crawl in subreddits:\n",
    "    print(colored(subreddit_to_crawl,'red'))\n",
    "    misandry=[]\n",
    "    misogyny=[]\n",
    "    for i in range(1,11):\n",
    "        bb=pd.read_excel(My_Folder_Path+'Datasets/Word_Lists/{}_{}_Bootstrap_{}.xlsx'.format(subreddit_to_crawl,pronoun,i))\n",
    "        bb['freq_pctrank']=bb['freq'].rank(pct=True)\n",
    "        bb.fillna(0, inplace=True)\n",
    "        bb = bb[(bb['bias']>0.005) | (-0.005>bb['bias'])]\n",
    "        sexism_index=sexism_finder(df=bb)\n",
    "        misandry.append(sexism_index[0])\n",
    "        misogyny.append(sexism_index[1])\n",
    "    #     misandry_error.append((sexism_index[0][1]-sexism_index[0][2])/-2)\n",
    "    #     misogyny_error.append((sexism_index[1][1]-sexism_index[1][2])/-2)\n",
    "    #     print('Misandry CI is: {}'.format(tuple([i * 100 for i in mean_confidence_interval(df2['bias']*(df2['freq_pctrank']**2)*-df2['hate'], confidence=0.95)])))\n",
    "    print('Misandry is: {}'.format(mean_confidence_interval(misandry)))\n",
    "    print('Misogyny is: {}'.format(mean_confidence_interval(misogyny)))\n",
    "    print('Sexism is: {}'.format(-mean_confidence_interval(misandry)[0]+mean_confidence_interval(misogyny)[0]))\n",
    "    sexism_ethnic = sexism_ethnic.append({'community':subreddit_to_crawl, 'misandry_mean':mean_confidence_interval(misandry)[0], 'misandry_LB':mean_confidence_interval(misandry)[1],\n",
    "                         'misandry_UB':mean_confidence_interval(misandry)[2], 'misogyny_mean':mean_confidence_interval(misogyny)[0],\n",
    "                         'misogyny_LB':mean_confidence_interval(misogyny)[1], 'misogyny_UB':mean_confidence_interval(misogyny)[2]}, ignore_index = True)\n",
    "#     print('Bias vs Hate Correlation (Misandry): {}'.format(spearmanr(df2['bias']*(df2['freq_pctrank']**0),-df2['hate'])))\n",
    "#     print('Bias vs Hate Correlation (Misogyny): {}'.format(spearmanr(-df1['bias']*(df1['freq_pctrank']**0),-df1['hate'])))\n",
    "    print('\\n')"
   ]
  },
  {
   "cell_type": "code",
   "execution_count": 2,
   "metadata": {},
   "outputs": [
    {
     "name": "stdout",
     "output_type": "stream",
     "text": [
      "time: 11.3 ms (started: 2022-03-18 17:54:48 +00:00)\n"
     ]
    }
   ],
   "source": [
    "def sexism_finder_normalized (df):\n",
    "    df.fillna(0, inplace=True)\n",
    "    df1=df[df.bias<0]\n",
    "    df2=df[df.bias>0]\n",
    "    misogyny = ((df1['bias'].abs()*(df1['freq_pctrank']**1)*df1['hate'].abs()).sum())/((df1['bias'].abs()*(df1['freq_pctrank']**1)).sum())\n",
    "    misandry = ((df2['bias'].abs()*(df2['freq_pctrank']**1)*df2['hate'].abs()).sum())/((df2['bias'].abs()*(df2['freq_pctrank']**1)).sum())\n",
    "    return misandry, misogyny, -misandry+misogyny"
   ]
  },
  {
   "cell_type": "code",
   "execution_count": 3,
   "metadata": {},
   "outputs": [
    {
     "data": {
      "image/png": "[encoded data removed]",
      "text/plain": [
       "<Figure size 360x432 with 1 Axes>"
      ]
     },
     "metadata": {
      "needs_background": "light"
     },
     "output_type": "display_data"
    },
    {
     "name": "stdout",
     "output_type": "stream",
     "text": [
      "time: 1.14 s (started: 2022-05-05 13:26:45 +00:00)\n"
     ]
    }
   ],
   "source": [
    "import matplotlib.pyplot as plt\n",
    "\n",
    "x_dummy=list(range(1,len(sexism_ethnic['community'])+1))\n",
    "\n",
    "plt.figure(figsize=(5,6))\n",
    "plt.errorbar(x=x_dummy, y = sexism_ethnic['misandry_mean'], yerr=sexism_ethnic['misandry_mean']-sexism_ethnic['misandry_LB'],markersize='4',markerfacecolor='blue',markeredgecolor='blue',capsize=4, elinewidth=2, xerr=None, fmt='o', color='blue')\n",
    "plt.tick_params(axis='x', which='both', bottom=False, top=False, labelbottom=False, right='off', left='off', labelleft='off')\n",
    "for i, txt in enumerate(sexism_ethnic['community']):\n",
    "    plt.annotate(txt, (x_dummy[i], sexism_ethnic['misandry_mean'][i]-0.00009*len(txt)),rotation=270,fontsize=13.5)\n",
    "plt.ylim(-0.00,0.0115)\n",
    "plt.xlim(0.65,15.85)\n",
    "ax = plt.gca()\n",
    "ax.axes.yaxis.set_ticklabels([])\n",
    "# plt.ylabel('Toxicity Level',fontsize=25, color='darkgreen')\n",
    "plt.title('Male Identity',fontsize=20)\n",
    "plt.savefig(\"Datasets/Sexism_Results/Misandry_Ethnic.jpeg\",bbox_inches = 'tight', format=\"jpeg\", dpi=550)\n"
   ]
  },
  {
   "cell_type": "code",
   "execution_count": 56,
   "metadata": {},
   "outputs": [
    {
     "data": {
      "image/png": "[encoded data removed]",
      "text/plain": [
       "<Figure size 360x432 with 1 Axes>"
      ]
     },
     "metadata": {
      "needs_background": "light"
     },
     "output_type": "display_data"
    },
    {
     "name": "stdout",
     "output_type": "stream",
     "text": [
      "time: 1.08 s (started: 2022-05-05 11:08:04 +00:00)\n"
     ]
    }
   ],
   "source": [
    "import matplotlib.pyplot as plt\n",
    "\n",
    "x_dummy=list(range(1,len(sexism_ethnic['community'])+1))\n",
    "\n",
    "plt.figure(figsize=(5,6))\n",
    "plt.errorbar(x=x_dummy, y = sexism_ethnic['misogyny_mean'], yerr=sexism_ethnic['misogyny_mean']-sexism_ethnic['misogyny_LB'],markersize='4',markerfacecolor='deeppink',markeredgecolor='deeppink',capsize=4, elinewidth=2, xerr=None, fmt='o', color='deeppink')\n",
    "plt.tick_params(axis='x', which='both', bottom=False, top=False, labelbottom=False, right='off', left='off', labelleft='off')\n",
    "# plt.set_yticklabels([])\n",
    "for i, txt in enumerate(sexism_ethnic['community']):\n",
    "    plt.annotate(txt, (x_dummy[i], sexism_ethnic['misogyny_mean'][i]-0.00009*len(txt)),rotation=270,fontsize=13.5)\n",
    "plt.ylim(-0.00,0.0115)\n",
    "plt.xlim(0.65,15.85)\n",
    "\n",
    "ax = plt.gca()\n",
    "ax.axes.yaxis.set_ticklabels([])\n",
    "# plt.ylabel('toxicity level')\n",
    "plt.title('Female Identity',fontsize=20)\n",
    "plt.savefig(\"Datasets/Sexism_Results/Misogyny_Ethnic.jpeg\", bbox_inches = 'tight',format=\"jpeg\", dpi=550)"
   ]
  },
  {
   "cell_type": "code",
   "execution_count": 41,
   "metadata": {
    "colab": {
     "base_uri": "https://localhost:8080/",
     "height": 436
    },
    "executionInfo": {
     "elapsed": 215,
     "status": "ok",
     "timestamp": 1627740236961,
     "user": {
      "displayName": "Vahid Ghafouri (Alumni)",
      "photoUrl": "https://lh3.googleusercontent.com/a-/AOh14GiiG2OgIYwDWYdBXjHKk4ZMJWWcsu93cdBXihlG=s64",
      "userId": "00889646059215470085"
     },
     "user_tz": -120
    },
    "id": "j2fRoqvuLRBH",
    "outputId": "263a2d04-f458-456a-f64c-675658d79665",
    "scrolled": true
   },
   "outputs": [
    {
     "name": "stdout",
     "output_type": "stream",
     "text": [
      "\u001b[31mnonToxic\u001b[0m\n",
      "Misandry is: (0.0013131266707228186, 0.0011659196789378752, 0.001460333662507762)\n",
      "Misogyny is: (0.0008930434583913755, 0.0008256147288929995, 0.0009604721878897515)\n",
      "Sexism is: -0.00042008321233144314\n",
      "\n",
      "\n",
      "\u001b[31mrandom\u001b[0m\n"
     ]
    },
    {
     "name": "stderr",
     "output_type": "stream",
     "text": [
      "/tmp/ipykernel_2981405/1947282076.py:30: FutureWarning: The frame.append method is deprecated and will be removed from pandas in a future version. Use pandas.concat instead.\n",
      "  sexism_individual = sexism_individual.append({'community':subreddit_to_crawl, 'misandry_mean':mean_confidence_interval(misandry)[0], 'misandry_LB':mean_confidence_interval(misandry)[1],\n"
     ]
    },
    {
     "name": "stdout",
     "output_type": "stream",
     "text": [
      "Misandry is: (0.002110857333267099, 0.0019258215559913494, 0.0022958931105428486)\n",
      "Misogyny is: (0.003044838433017098, 0.0027716365045787426, 0.0033180403614554536)\n",
      "Sexism is: 0.000933981099749999\n",
      "\n",
      "\n",
      "\u001b[31mTheRedPill\u001b[0m\n"
     ]
    },
    {
     "name": "stderr",
     "output_type": "stream",
     "text": [
      "/tmp/ipykernel_2981405/1947282076.py:30: FutureWarning: The frame.append method is deprecated and will be removed from pandas in a future version. Use pandas.concat instead.\n",
      "  sexism_individual = sexism_individual.append({'community':subreddit_to_crawl, 'misandry_mean':mean_confidence_interval(misandry)[0], 'misandry_LB':mean_confidence_interval(misandry)[1],\n"
     ]
    },
    {
     "name": "stdout",
     "output_type": "stream",
     "text": [
      "Misandry is: (0.004863646974158682, 0.004649261241723231, 0.005078032706594133)\n",
      "Misogyny is: (0.009877286782800122, 0.009389388577034925, 0.01036518498856532)\n",
      "Sexism is: 0.0050136398086414406\n",
      "\n",
      "\n",
      "\u001b[31mMGTOW\u001b[0m\n"
     ]
    },
    {
     "name": "stderr",
     "output_type": "stream",
     "text": [
      "/tmp/ipykernel_2981405/1947282076.py:30: FutureWarning: The frame.append method is deprecated and will be removed from pandas in a future version. Use pandas.concat instead.\n",
      "  sexism_individual = sexism_individual.append({'community':subreddit_to_crawl, 'misandry_mean':mean_confidence_interval(misandry)[0], 'misandry_LB':mean_confidence_interval(misandry)[1],\n"
     ]
    },
    {
     "name": "stdout",
     "output_type": "stream",
     "text": [
      "Misandry is: (0.003802462973123525, 0.0035938248061799048, 0.004011101140067145)\n",
      "Misogyny is: (0.008530102027207335, 0.008067146853892681, 0.008993057200521988)\n",
      "Sexism is: 0.00472763905408381\n",
      "\n",
      "\n",
      "\u001b[31mMGTOW2\u001b[0m\n"
     ]
    },
    {
     "name": "stderr",
     "output_type": "stream",
     "text": [
      "/tmp/ipykernel_2981405/1947282076.py:30: FutureWarning: The frame.append method is deprecated and will be removed from pandas in a future version. Use pandas.concat instead.\n",
      "  sexism_individual = sexism_individual.append({'community':subreddit_to_crawl, 'misandry_mean':mean_confidence_interval(misandry)[0], 'misandry_LB':mean_confidence_interval(misandry)[1],\n"
     ]
    },
    {
     "name": "stdout",
     "output_type": "stream",
     "text": [
      "Misandry is: (0.0035483772022482226, 0.003421657347767716, 0.0036750970567287294)\n",
      "Misogyny is: (0.0073066698797094876, 0.007072815520520832, 0.007540524238898143)\n",
      "Sexism is: 0.003758292677461265\n",
      "\n",
      "\n",
      "\u001b[31mMensRights\u001b[0m\n"
     ]
    },
    {
     "name": "stderr",
     "output_type": "stream",
     "text": [
      "/tmp/ipykernel_2981405/1947282076.py:30: FutureWarning: The frame.append method is deprecated and will be removed from pandas in a future version. Use pandas.concat instead.\n",
      "  sexism_individual = sexism_individual.append({'community':subreddit_to_crawl, 'misandry_mean':mean_confidence_interval(misandry)[0], 'misandry_LB':mean_confidence_interval(misandry)[1],\n"
     ]
    },
    {
     "name": "stdout",
     "output_type": "stream",
     "text": [
      "Misandry is: (0.0019661757750431873, 0.0018181660694249666, 0.002114185480661408)\n",
      "Misogyny is: (0.003215630126052085, 0.0028717595915182816, 0.0035595006605858887)\n",
      "Sexism is: 0.0012494543510088978\n",
      "\n",
      "\n",
      "\u001b[31mMensLib\u001b[0m\n"
     ]
    },
    {
     "name": "stderr",
     "output_type": "stream",
     "text": [
      "/tmp/ipykernel_2981405/1947282076.py:30: FutureWarning: The frame.append method is deprecated and will be removed from pandas in a future version. Use pandas.concat instead.\n",
      "  sexism_individual = sexism_individual.append({'community':subreddit_to_crawl, 'misandry_mean':mean_confidence_interval(misandry)[0], 'misandry_LB':mean_confidence_interval(misandry)[1],\n"
     ]
    },
    {
     "name": "stdout",
     "output_type": "stream",
     "text": [
      "Misandry is: (0.0023393690804775578, 0.0021914480952849444, 0.002487290065670171)\n",
      "Misogyny is: (0.0031273172741333177, 0.002933765324294268, 0.0033208692239723673)\n",
      "Sexism is: 0.00078794819365576\n",
      "\n",
      "\n",
      "\u001b[31mTrollYChromosome\u001b[0m\n"
     ]
    },
    {
     "name": "stderr",
     "output_type": "stream",
     "text": [
      "/tmp/ipykernel_2981405/1947282076.py:30: FutureWarning: The frame.append method is deprecated and will be removed from pandas in a future version. Use pandas.concat instead.\n",
      "  sexism_individual = sexism_individual.append({'community':subreddit_to_crawl, 'misandry_mean':mean_confidence_interval(misandry)[0], 'misandry_LB':mean_confidence_interval(misandry)[1],\n"
     ]
    },
    {
     "name": "stdout",
     "output_type": "stream",
     "text": [
      "Misandry is: (0.004692843801672288, 0.004501928770892985, 0.0048837588324515905)\n",
      "Misogyny is: (0.007244841192652993, 0.006846139186943835, 0.0076435431983621505)\n",
      "Sexism is: 0.0025519973909807047\n",
      "\n",
      "\n",
      "\u001b[31mIncelTear\u001b[0m\n"
     ]
    },
    {
     "name": "stderr",
     "output_type": "stream",
     "text": [
      "/tmp/ipykernel_2981405/1947282076.py:30: FutureWarning: The frame.append method is deprecated and will be removed from pandas in a future version. Use pandas.concat instead.\n",
      "  sexism_individual = sexism_individual.append({'community':subreddit_to_crawl, 'misandry_mean':mean_confidence_interval(misandry)[0], 'misandry_LB':mean_confidence_interval(misandry)[1],\n"
     ]
    },
    {
     "name": "stdout",
     "output_type": "stream",
     "text": [
      "Misandry is: (0.009810736382009747, 0.009342275534238493, 0.010279197229781002)\n",
      "Misogyny is: (0.008722694793794863, 0.008374750369832816, 0.00907063921775691)\n",
      "Sexism is: -0.0010880415882148844\n",
      "\n",
      "\n",
      "\u001b[31mtrollxchromosomes\u001b[0m\n"
     ]
    },
    {
     "name": "stderr",
     "output_type": "stream",
     "text": [
      "/tmp/ipykernel_2981405/1947282076.py:30: FutureWarning: The frame.append method is deprecated and will be removed from pandas in a future version. Use pandas.concat instead.\n",
      "  sexism_individual = sexism_individual.append({'community':subreddit_to_crawl, 'misandry_mean':mean_confidence_interval(misandry)[0], 'misandry_LB':mean_confidence_interval(misandry)[1],\n"
     ]
    },
    {
     "name": "stdout",
     "output_type": "stream",
     "text": [
      "Misandry is: (0.005178459774712463, 0.004776587159312676, 0.005580332390112251)\n",
      "Misogyny is: (0.0033696703262998742, 0.003250002570427943, 0.0034893380821718056)\n",
      "Sexism is: -0.001808789448412589\n",
      "\n",
      "\n",
      "\u001b[31mFemaleDatingStrategy\u001b[0m\n"
     ]
    },
    {
     "name": "stderr",
     "output_type": "stream",
     "text": [
      "/tmp/ipykernel_2981405/1947282076.py:30: FutureWarning: The frame.append method is deprecated and will be removed from pandas in a future version. Use pandas.concat instead.\n",
      "  sexism_individual = sexism_individual.append({'community':subreddit_to_crawl, 'misandry_mean':mean_confidence_interval(misandry)[0], 'misandry_LB':mean_confidence_interval(misandry)[1],\n"
     ]
    },
    {
     "name": "stdout",
     "output_type": "stream",
     "text": [
      "Misandry is: (0.006159129984548109, 0.005695965721048933, 0.006622294248047285)\n",
      "Misogyny is: (0.0044006501792278625, 0.004239443747352596, 0.004561856611103129)\n",
      "Sexism is: -0.0017584798053202465\n",
      "\n",
      "\n",
      "\u001b[31mthegirlsurvivalguide\u001b[0m\n"
     ]
    },
    {
     "name": "stderr",
     "output_type": "stream",
     "text": [
      "/tmp/ipykernel_2981405/1947282076.py:30: FutureWarning: The frame.append method is deprecated and will be removed from pandas in a future version. Use pandas.concat instead.\n",
      "  sexism_individual = sexism_individual.append({'community':subreddit_to_crawl, 'misandry_mean':mean_confidence_interval(misandry)[0], 'misandry_LB':mean_confidence_interval(misandry)[1],\n"
     ]
    },
    {
     "name": "stdout",
     "output_type": "stream",
     "text": [
      "Misandry is: (0.0034329414481201067, 0.0032004686071409666, 0.003665414289099247)\n",
      "Misogyny is: (0.002271578385211099, 0.0021494556532984854, 0.0023937011171237125)\n",
      "Sexism is: -0.0011613630629090078\n",
      "\n",
      "\n",
      "\u001b[31mFeminism\u001b[0m\n"
     ]
    },
    {
     "name": "stderr",
     "output_type": "stream",
     "text": [
      "/tmp/ipykernel_2981405/1947282076.py:30: FutureWarning: The frame.append method is deprecated and will be removed from pandas in a future version. Use pandas.concat instead.\n",
      "  sexism_individual = sexism_individual.append({'community':subreddit_to_crawl, 'misandry_mean':mean_confidence_interval(misandry)[0], 'misandry_LB':mean_confidence_interval(misandry)[1],\n"
     ]
    },
    {
     "name": "stdout",
     "output_type": "stream",
     "text": [
      "Misandry is: (0.002916150889279284, 0.0026245380409232544, 0.0032077637376353137)\n",
      "Misogyny is: (0.0032001597362237427, 0.002945505280149118, 0.0034548141922983674)\n",
      "Sexism is: 0.00028400884694445867\n",
      "\n",
      "\n",
      "\u001b[31mAskFeminists\u001b[0m\n"
     ]
    },
    {
     "name": "stderr",
     "output_type": "stream",
     "text": [
      "/tmp/ipykernel_2981405/1947282076.py:30: FutureWarning: The frame.append method is deprecated and will be removed from pandas in a future version. Use pandas.concat instead.\n",
      "  sexism_individual = sexism_individual.append({'community':subreddit_to_crawl, 'misandry_mean':mean_confidence_interval(misandry)[0], 'misandry_LB':mean_confidence_interval(misandry)[1],\n"
     ]
    },
    {
     "name": "stdout",
     "output_type": "stream",
     "text": [
      "Misandry is: (0.0018876320601197132, 0.0017120424063095743, 0.0020632217139298524)\n",
      "Misogyny is: (0.0025738357277582365, 0.0024138243044837062, 0.0027338471510327668)\n",
      "Sexism is: 0.0006862036676385233\n",
      "\n",
      "\n",
      "\u001b[31maskwomen\u001b[0m\n"
     ]
    },
    {
     "name": "stderr",
     "output_type": "stream",
     "text": [
      "/tmp/ipykernel_2981405/1947282076.py:30: FutureWarning: The frame.append method is deprecated and will be removed from pandas in a future version. Use pandas.concat instead.\n",
      "  sexism_individual = sexism_individual.append({'community':subreddit_to_crawl, 'misandry_mean':mean_confidence_interval(misandry)[0], 'misandry_LB':mean_confidence_interval(misandry)[1],\n"
     ]
    },
    {
     "name": "stdout",
     "output_type": "stream",
     "text": [
      "Misandry is: (0.001997415594669129, 0.0017745268615480792, 0.0022203043277901784)\n",
      "Misogyny is: (0.002400056920855962, 0.0022608790086930544, 0.0025392348330188696)\n",
      "Sexism is: 0.0004026413261868332\n",
      "\n",
      "\n",
      "time: 1min 47s (started: 2022-05-05 10:28:07 +00:00)\n"
     ]
    },
    {
     "name": "stderr",
     "output_type": "stream",
     "text": [
      "/tmp/ipykernel_2981405/1947282076.py:30: FutureWarning: The frame.append method is deprecated and will be removed from pandas in a future version. Use pandas.concat instead.\n",
      "  sexism_individual = sexism_individual.append({'community':subreddit_to_crawl, 'misandry_mean':mean_confidence_interval(misandry)[0], 'misandry_LB':mean_confidence_interval(misandry)[1],\n"
     ]
    }
   ],
   "source": [
    "\n",
    "# subreddits=['random','nonToxic','IncelTear','MGTOW','TheRedPill','Feminism','AskFeminists','askwomen',\n",
    "#             'trollxchromosomes','TrollYChromosome','MGTOW2', 'FemaleDatingStrategy','thegirlsurvivalguide',\n",
    "#             'MensRights','MensLib','AskMen']\n",
    "\n",
    "subreddits=['nonToxic','random','TheRedPill','MGTOW','MGTOW2','MensRights','MensLib' ,'TrollYChromosome',\n",
    "            'IncelTear',\n",
    "            'trollxchromosomes', 'FemaleDatingStrategy','thegirlsurvivalguide','Feminism','AskFeminists','askwomen']\n",
    "# subreddits=['nonToxic']\n",
    "sexism_individual=pd.DataFrame()\n",
    "\n",
    "pronoun = 'individual'\n",
    "for subreddit_to_crawl in subreddits:\n",
    "    print(colored(subreddit_to_crawl,'red'))\n",
    "    misandry=[]\n",
    "    misogyny=[]\n",
    "    for i in range(1,11):\n",
    "        bb=pd.read_excel(My_Folder_Path+'Datasets/Word_Lists/{}_{}_Bootstrap_{}.xlsx'.format(subreddit_to_crawl,pronoun,i))\n",
    "        bb['freq_pctrank']=bb['freq'].rank(pct=True)\n",
    "        bb.fillna(0, inplace=True)\n",
    "        bb = bb[(bb['bias']>0.005) | (-0.005>bb['bias'])]\n",
    "        sexism_index=sexism_finder(df=bb)\n",
    "        misandry.append(sexism_index[0])\n",
    "        misogyny.append(sexism_index[1])\n",
    "    #     misandry_error.append((sexism_index[0][1]-sexism_index[0][2])/-2)\n",
    "    #     misogyny_error.append((sexism_index[1][1]-sexism_index[1][2])/-2)\n",
    "    #     print('Misandry CI is: {}'.format(tuple([i * 100 for i in mean_confidence_interval(df2['bias']*(df2['freq_pctrank']**2)*-df2['hate'], confidence=0.95)])))\n",
    "    print('Misandry is: {}'.format(mean_confidence_interval(misandry)))\n",
    "    print('Misogyny is: {}'.format(mean_confidence_interval(misogyny)))\n",
    "    print('Sexism is: {}'.format(-mean_confidence_interval(misandry)[0]+mean_confidence_interval(misogyny)[0]))\n",
    "    sexism_individual = sexism_individual.append({'community':subreddit_to_crawl, 'misandry_mean':mean_confidence_interval(misandry)[0], 'misandry_LB':mean_confidence_interval(misandry)[1],\n",
    "                     'misandry_UB':mean_confidence_interval(misandry)[2], 'misogyny_mean':mean_confidence_interval(misogyny)[0],\n",
    "                     'misogyny_LB':mean_confidence_interval(misogyny)[1], 'misogyny_UB':mean_confidence_interval(misogyny)[2]}, ignore_index = True)\n",
    "\n",
    "#     print('Bias vs Hate Correlation (Misandry): {}'.format(spearmanr(df2['bias']*(df2['freq_pctrank']**0),-df2['hate'])))\n",
    "#     print('Bias vs Hate Correlation (Misogyny): {}'.format(spearmanr(-df1['bias']*(df1['freq_pctrank']**0),-df1['hate'])))\n",
    "    print('\\n')"
   ]
  },
  {
   "cell_type": "code",
   "execution_count": 55,
   "metadata": {},
   "outputs": [
    {
     "data": {
      "image/png": "[encoded data removed]",
      "text/plain": [
       "<Figure size 360x432 with 1 Axes>"
      ]
     },
     "metadata": {
      "needs_background": "light"
     },
     "output_type": "display_data"
    },
    {
     "name": "stdout",
     "output_type": "stream",
     "text": [
      "time: 1.06 s (started: 2022-05-05 11:07:49 +00:00)\n"
     ]
    }
   ],
   "source": [
    "x_dummy=list(range(1,len(sexism_individual['community'])+1))\n",
    "\n",
    "plt.figure(figsize=(5,6))\n",
    "plt.errorbar(x=x_dummy, y = sexism_individual['misandry_mean'], yerr=sexism_individual['misandry_mean']-sexism_individual['misandry_LB'],markersize='4',markerfacecolor='blue',markeredgecolor='blue',capsize=4, elinewidth=2, xerr=None, fmt='o', color='blue')\n",
    "plt.tick_params(axis='x', which='both', bottom=False, top=False, labelbottom=False, right='off', left='off', labelleft='off')\n",
    "for i, txt in enumerate(sexism_individual['community']):\n",
    "    plt.annotate(txt, (x_dummy[i], sexism_individual['misandry_mean'][i]-0.00009*len(txt)),rotation=270,fontsize=13.5)\n",
    "plt.ylim(-0.00,0.0115)\n",
    "plt.xlim(0.65,15.85)\n",
    "ax = plt.gca()\n",
    "ax.axes.yaxis.set_ticklabels([])\n",
    "# plt.ylabel('toxicity level')\n",
    "plt.title('Male Individuals',fontsize=20)\n",
    "plt.savefig(\"Datasets/Sexism_Results/Misandry_Individual.jpeg\", bbox_inches = 'tight',format=\"jpeg\", dpi=550)"
   ]
  },
  {
   "cell_type": "code",
   "execution_count": 59,
   "metadata": {},
   "outputs": [
    {
     "data": {
      "image/png": "[encoded data removed]",
      "text/plain": [
       "<Figure size 360x432 with 1 Axes>"
      ]
     },
     "metadata": {
      "needs_background": "light"
     },
     "output_type": "display_data"
    },
    {
     "name": "stdout",
     "output_type": "stream",
     "text": [
      "time: 1.1 s (started: 2022-05-05 11:36:05 +00:00)\n"
     ]
    }
   ],
   "source": [
    "x_dummy=list(range(1,len(sexism_individual['community'])+1))\n",
    "\n",
    "plt.figure(figsize=(5,6))\n",
    "plt.errorbar(x=x_dummy, y = sexism_individual['misogyny_mean'], yerr=sexism_individual['misogyny_mean']-sexism_individual['misogyny_LB'],markersize='4',markerfacecolor='deeppink',markeredgecolor='deeppink',capsize=4, elinewidth=2, xerr=None, fmt='o', color='deeppink')\n",
    "plt.tick_params(axis='x', which='both', bottom=False, top=False, labelbottom=False, right='off', left='off', labelleft='off')\n",
    "for i, txt in enumerate(sexism_individual['community']):\n",
    "    plt.annotate(txt, (x_dummy[i], sexism_individual['misogyny_mean'][i]-0.00009*len(txt)),rotation=270,fontsize=13.5)\n",
    "plt.ylim(-0.00,0.0115)\n",
    "plt.xlim(0.65,15.85)\n",
    "ax = plt.gca()\n",
    "ax.axes.yaxis.set_ticklabels([])\n",
    "# plt.ylabel('toxicity level')\n",
    "plt.title('Female Individuals',fontsize=20)\n",
    "plt.savefig(\"Datasets/Sexism_Results/Misogyny_Individual.jpeg\", bbox_inches = 'tight', format=\"jpeg\", dpi=550)"
   ]
  },
  {
   "cell_type": "markdown",
   "metadata": {},
   "source": [
    "# Similarity Table"
   ]
  },
  {
   "cell_type": "code",
   "execution_count": 13,
   "metadata": {},
   "outputs": [
    {
     "name": "stdout",
     "output_type": "stream",
     "text": [
      "TheRedPill vs TheRedPill: 100\n",
      "TheRedPill vs MGTOW: 33\n",
      "TheRedPill vs MGTOW2: 49\n",
      "TheRedPill vs MensRights: 21\n",
      "TheRedPill vs MensLib: 27\n",
      "TheRedPill vs TrollYChromosome: 34\n",
      "TheRedPill vs IncelTear: 31\n",
      "TheRedPill vs trollxchromosomes: 14\n",
      "TheRedPill vs FemaleDatingStrategy: 8\n",
      "TheRedPill vs thegirlsurvivalguide: 10\n",
      "TheRedPill vs Feminism: 10\n",
      "TheRedPill vs AskFeminists: 14\n",
      "TheRedPill vs askwomen: 7\n",
      "MGTOW vs TheRedPill: 25\n",
      "MGTOW vs MGTOW: 100\n",
      "MGTOW vs MGTOW2: 48\n",
      "MGTOW vs MensRights: 18\n",
      "MGTOW vs MensLib: 17\n",
      "MGTOW vs TrollYChromosome: 20\n",
      "MGTOW vs IncelTear: 28\n",
      "MGTOW vs trollxchromosomes: 8\n",
      "MGTOW vs FemaleDatingStrategy: 14\n",
      "MGTOW vs thegirlsurvivalguide: 15\n",
      "MGTOW vs Feminism: 4\n",
      "MGTOW vs AskFeminists: 7\n",
      "MGTOW vs askwomen: 12\n",
      "MGTOW2 vs TheRedPill: 28\n",
      "MGTOW2 vs MGTOW: 30\n",
      "MGTOW2 vs MGTOW2: 100\n",
      "MGTOW2 vs MensRights: 21\n",
      "MGTOW2 vs MensLib: 24\n",
      "MGTOW2 vs TrollYChromosome: 26\n",
      "MGTOW2 vs IncelTear: 29\n",
      "MGTOW2 vs trollxchromosomes: 10\n",
      "MGTOW2 vs FemaleDatingStrategy: 8\n",
      "MGTOW2 vs thegirlsurvivalguide: 8\n",
      "MGTOW2 vs Feminism: 5\n",
      "MGTOW2 vs AskFeminists: 7\n",
      "MGTOW2 vs askwomen: 8\n",
      "MensRights vs TheRedPill: 15\n",
      "MensRights vs MGTOW: 10\n",
      "MensRights vs MGTOW2: 9\n",
      "MensRights vs MensRights: 100\n",
      "MensRights vs MensLib: 39\n",
      "MensRights vs TrollYChromosome: 26\n",
      "MensRights vs IncelTear: 19\n",
      "MensRights vs trollxchromosomes: 17\n",
      "MensRights vs FemaleDatingStrategy: 22\n",
      "MensRights vs thegirlsurvivalguide: 9\n",
      "MensRights vs Feminism: 15\n",
      "MensRights vs AskFeminists: 26\n",
      "MensRights vs askwomen: 9\n",
      "MensLib vs TheRedPill: 21\n",
      "MensLib vs MGTOW: 10\n",
      "MensLib vs MGTOW2: 13\n",
      "MensLib vs MensRights: 28\n",
      "MensLib vs MensLib: 100\n",
      "MensLib vs TrollYChromosome: 44\n",
      "MensLib vs IncelTear: 34\n",
      "MensLib vs trollxchromosomes: 19\n",
      "MensLib vs FemaleDatingStrategy: 22\n",
      "MensLib vs thegirlsurvivalguide: 6\n",
      "MensLib vs Feminism: 13\n",
      "MensLib vs AskFeminists: 29\n",
      "MensLib vs askwomen: 11\n",
      "TrollYChromosome vs TheRedPill: 13\n",
      "TrollYChromosome vs MGTOW: 9\n",
      "TrollYChromosome vs MGTOW2: 14\n",
      "TrollYChromosome vs MensRights: 17\n",
      "TrollYChromosome vs MensLib: 16\n",
      "TrollYChromosome vs TrollYChromosome: 100\n",
      "TrollYChromosome vs IncelTear: 29\n",
      "TrollYChromosome vs trollxchromosomes: 22\n",
      "TrollYChromosome vs FemaleDatingStrategy: 16\n",
      "TrollYChromosome vs thegirlsurvivalguide: 18\n",
      "TrollYChromosome vs Feminism: 16\n",
      "TrollYChromosome vs AskFeminists: 22\n",
      "TrollYChromosome vs askwomen: 19\n",
      "IncelTear vs TheRedPill: 14\n",
      "IncelTear vs MGTOW: 9\n",
      "IncelTear vs MGTOW2: 16\n",
      "IncelTear vs MensRights: 4\n",
      "IncelTear vs MensLib: 6\n",
      "IncelTear vs TrollYChromosome: 13\n",
      "IncelTear vs IncelTear: 100\n",
      "IncelTear vs trollxchromosomes: 26\n",
      "IncelTear vs FemaleDatingStrategy: 20\n",
      "IncelTear vs thegirlsurvivalguide: 14\n",
      "IncelTear vs Feminism: 15\n",
      "IncelTear vs AskFeminists: 21\n",
      "IncelTear vs askwomen: 20\n",
      "trollxchromosomes vs TheRedPill: 5\n",
      "trollxchromosomes vs MGTOW: 5\n",
      "trollxchromosomes vs MGTOW2: 6\n",
      "trollxchromosomes vs MensRights: 9\n",
      "trollxchromosomes vs MensLib: 9\n",
      "trollxchromosomes vs TrollYChromosome: 18\n",
      "trollxchromosomes vs IncelTear: 15\n",
      "trollxchromosomes vs trollxchromosomes: 100\n",
      "trollxchromosomes vs FemaleDatingStrategy: 29\n",
      "trollxchromosomes vs thegirlsurvivalguide: 22\n",
      "trollxchromosomes vs Feminism: 36\n",
      "trollxchromosomes vs AskFeminists: 39\n",
      "trollxchromosomes vs askwomen: 27\n",
      "FemaleDatingStrategy vs TheRedPill: 4\n",
      "FemaleDatingStrategy vs MGTOW: 7\n",
      "FemaleDatingStrategy vs MGTOW2: 7\n",
      "FemaleDatingStrategy vs MensRights: 6\n",
      "FemaleDatingStrategy vs MensLib: 3\n",
      "FemaleDatingStrategy vs TrollYChromosome: 11\n",
      "FemaleDatingStrategy vs IncelTear: 15\n",
      "FemaleDatingStrategy vs trollxchromosomes: 23\n",
      "FemaleDatingStrategy vs FemaleDatingStrategy: 100\n",
      "FemaleDatingStrategy vs thegirlsurvivalguide: 19\n",
      "FemaleDatingStrategy vs Feminism: 25\n",
      "FemaleDatingStrategy vs AskFeminists: 18\n",
      "FemaleDatingStrategy vs askwomen: 30\n",
      "thegirlsurvivalguide vs TheRedPill: 3\n",
      "thegirlsurvivalguide vs MGTOW: 10\n",
      "thegirlsurvivalguide vs MGTOW2: 6\n",
      "thegirlsurvivalguide vs MensRights: 7\n",
      "thegirlsurvivalguide vs MensLib: 1\n",
      "thegirlsurvivalguide vs TrollYChromosome: 8\n",
      "thegirlsurvivalguide vs IncelTear: 5\n",
      "thegirlsurvivalguide vs trollxchromosomes: 14\n",
      "thegirlsurvivalguide vs FemaleDatingStrategy: 28\n",
      "thegirlsurvivalguide vs thegirlsurvivalguide: 100\n",
      "thegirlsurvivalguide vs Feminism: 13\n",
      "thegirlsurvivalguide vs AskFeminists: 16\n",
      "thegirlsurvivalguide vs askwomen: 37\n",
      "Feminism vs TheRedPill: 4\n",
      "Feminism vs MGTOW: 6\n",
      "Feminism vs MGTOW2: 6\n",
      "Feminism vs MensRights: 13\n",
      "Feminism vs MensLib: 12\n",
      "Feminism vs TrollYChromosome: 21\n",
      "Feminism vs IncelTear: 9\n",
      "Feminism vs trollxchromosomes: 31\n",
      "Feminism vs FemaleDatingStrategy: 21\n",
      "Feminism vs thegirlsurvivalguide: 12\n",
      "Feminism vs Feminism: 100\n",
      "Feminism vs AskFeminists: 37\n",
      "Feminism vs askwomen: 19\n",
      "AskFeminists vs TheRedPill: 7\n",
      "AskFeminists vs MGTOW: 3\n",
      "AskFeminists vs MGTOW2: 6\n",
      "AskFeminists vs MensRights: 19\n",
      "AskFeminists vs MensLib: 22\n",
      "AskFeminists vs TrollYChromosome: 17\n",
      "AskFeminists vs IncelTear: 12\n",
      "AskFeminists vs trollxchromosomes: 27\n",
      "AskFeminists vs FemaleDatingStrategy: 14\n",
      "AskFeminists vs thegirlsurvivalguide: 13\n",
      "AskFeminists vs Feminism: 44\n",
      "AskFeminists vs AskFeminists: 100\n",
      "AskFeminists vs askwomen: 21\n",
      "askwomen vs TheRedPill: 4\n",
      "askwomen vs MGTOW: 8\n",
      "askwomen vs MGTOW2: 6\n",
      "askwomen vs MensRights: 3\n",
      "askwomen vs MensLib: 1\n",
      "askwomen vs TrollYChromosome: 3\n",
      "askwomen vs IncelTear: 11\n",
      "askwomen vs trollxchromosomes: 15\n",
      "askwomen vs FemaleDatingStrategy: 16\n",
      "askwomen vs thegirlsurvivalguide: 34\n",
      "askwomen vs Feminism: 5\n",
      "askwomen vs AskFeminists: 5\n",
      "askwomen vs askwomen: 100\n"
     ]
    },
    {
     "data": {
      "text/html": [
       "<div>\n",
       "<style scoped>\n",
       "    .dataframe tbody tr th:only-of-type {\n",
       "        vertical-align: middle;\n",
       "    }\n",
       "\n",
       "    .dataframe tbody tr th {\n",
       "        vertical-align: top;\n",
       "    }\n",
       "\n",
       "    .dataframe thead th {\n",
       "        text-align: right;\n",
       "    }\n",
       "</style>\n",
       "<table border=\"1\" class=\"dataframe\">\n",
       "  <thead>\n",
       "    <tr style=\"text-align: right;\">\n",
       "      <th></th>\n",
       "      <th>subreddit</th>\n",
       "      <th>TheRedPill</th>\n",
       "      <th>MGTOW</th>\n",
       "      <th>MGTOW2</th>\n",
       "      <th>MensRights</th>\n",
       "      <th>MensLib</th>\n",
       "      <th>TrollYChromosome</th>\n",
       "      <th>IncelTear</th>\n",
       "      <th>trollxchromosomes</th>\n",
       "      <th>FemaleDatingStrategy</th>\n",
       "      <th>thegirlsurvivalguide</th>\n",
       "      <th>Feminism</th>\n",
       "      <th>AskFeminists</th>\n",
       "      <th>askwomen</th>\n",
       "    </tr>\n",
       "  </thead>\n",
       "  <tbody>\n",
       "    <tr>\n",
       "      <th>0</th>\n",
       "      <td>TheRedPill</td>\n",
       "      <td>100</td>\n",
       "      <td>33</td>\n",
       "      <td>49</td>\n",
       "      <td>21</td>\n",
       "      <td>27</td>\n",
       "      <td>34</td>\n",
       "      <td>31</td>\n",
       "      <td>14</td>\n",
       "      <td>8</td>\n",
       "      <td>10</td>\n",
       "      <td>10</td>\n",
       "      <td>14</td>\n",
       "      <td>7</td>\n",
       "    </tr>\n",
       "    <tr>\n",
       "      <th>1</th>\n",
       "      <td>MGTOW</td>\n",
       "      <td>25</td>\n",
       "      <td>100</td>\n",
       "      <td>48</td>\n",
       "      <td>18</td>\n",
       "      <td>17</td>\n",
       "      <td>20</td>\n",
       "      <td>28</td>\n",
       "      <td>8</td>\n",
       "      <td>14</td>\n",
       "      <td>15</td>\n",
       "      <td>4</td>\n",
       "      <td>7</td>\n",
       "      <td>12</td>\n",
       "    </tr>\n",
       "    <tr>\n",
       "      <th>2</th>\n",
       "      <td>MGTOW2</td>\n",
       "      <td>28</td>\n",
       "      <td>30</td>\n",
       "      <td>100</td>\n",
       "      <td>21</td>\n",
       "      <td>24</td>\n",
       "      <td>26</td>\n",
       "      <td>29</td>\n",
       "      <td>10</td>\n",
       "      <td>8</td>\n",
       "      <td>8</td>\n",
       "      <td>5</td>\n",
       "      <td>7</td>\n",
       "      <td>8</td>\n",
       "    </tr>\n",
       "    <tr>\n",
       "      <th>3</th>\n",
       "      <td>MensRights</td>\n",
       "      <td>15</td>\n",
       "      <td>10</td>\n",
       "      <td>9</td>\n",
       "      <td>100</td>\n",
       "      <td>39</td>\n",
       "      <td>26</td>\n",
       "      <td>19</td>\n",
       "      <td>17</td>\n",
       "      <td>22</td>\n",
       "      <td>9</td>\n",
       "      <td>15</td>\n",
       "      <td>26</td>\n",
       "      <td>9</td>\n",
       "    </tr>\n",
       "    <tr>\n",
       "      <th>4</th>\n",
       "      <td>MensLib</td>\n",
       "      <td>21</td>\n",
       "      <td>10</td>\n",
       "      <td>13</td>\n",
       "      <td>28</td>\n",
       "      <td>100</td>\n",
       "      <td>44</td>\n",
       "      <td>34</td>\n",
       "      <td>19</td>\n",
       "      <td>22</td>\n",
       "      <td>6</td>\n",
       "      <td>13</td>\n",
       "      <td>29</td>\n",
       "      <td>11</td>\n",
       "    </tr>\n",
       "    <tr>\n",
       "      <th>5</th>\n",
       "      <td>TrollYChromosome</td>\n",
       "      <td>13</td>\n",
       "      <td>9</td>\n",
       "      <td>14</td>\n",
       "      <td>17</td>\n",
       "      <td>16</td>\n",
       "      <td>100</td>\n",
       "      <td>29</td>\n",
       "      <td>22</td>\n",
       "      <td>16</td>\n",
       "      <td>18</td>\n",
       "      <td>16</td>\n",
       "      <td>22</td>\n",
       "      <td>19</td>\n",
       "    </tr>\n",
       "    <tr>\n",
       "      <th>6</th>\n",
       "      <td>IncelTear</td>\n",
       "      <td>14</td>\n",
       "      <td>9</td>\n",
       "      <td>16</td>\n",
       "      <td>4</td>\n",
       "      <td>6</td>\n",
       "      <td>13</td>\n",
       "      <td>100</td>\n",
       "      <td>26</td>\n",
       "      <td>20</td>\n",
       "      <td>14</td>\n",
       "      <td>15</td>\n",
       "      <td>21</td>\n",
       "      <td>20</td>\n",
       "    </tr>\n",
       "    <tr>\n",
       "      <th>7</th>\n",
       "      <td>trollxchromosomes</td>\n",
       "      <td>5</td>\n",
       "      <td>5</td>\n",
       "      <td>6</td>\n",
       "      <td>9</td>\n",
       "      <td>9</td>\n",
       "      <td>18</td>\n",
       "      <td>15</td>\n",
       "      <td>100</td>\n",
       "      <td>29</td>\n",
       "      <td>22</td>\n",
       "      <td>36</td>\n",
       "      <td>39</td>\n",
       "      <td>27</td>\n",
       "    </tr>\n",
       "    <tr>\n",
       "      <th>8</th>\n",
       "      <td>FemaleDatingStrategy</td>\n",
       "      <td>4</td>\n",
       "      <td>7</td>\n",
       "      <td>7</td>\n",
       "      <td>6</td>\n",
       "      <td>3</td>\n",
       "      <td>11</td>\n",
       "      <td>15</td>\n",
       "      <td>23</td>\n",
       "      <td>100</td>\n",
       "      <td>19</td>\n",
       "      <td>25</td>\n",
       "      <td>18</td>\n",
       "      <td>30</td>\n",
       "    </tr>\n",
       "    <tr>\n",
       "      <th>9</th>\n",
       "      <td>thegirlsurvivalguide</td>\n",
       "      <td>3</td>\n",
       "      <td>10</td>\n",
       "      <td>6</td>\n",
       "      <td>7</td>\n",
       "      <td>1</td>\n",
       "      <td>8</td>\n",
       "      <td>5</td>\n",
       "      <td>14</td>\n",
       "      <td>28</td>\n",
       "      <td>100</td>\n",
       "      <td>13</td>\n",
       "      <td>16</td>\n",
       "      <td>37</td>\n",
       "    </tr>\n",
       "    <tr>\n",
       "      <th>10</th>\n",
       "      <td>Feminism</td>\n",
       "      <td>4</td>\n",
       "      <td>6</td>\n",
       "      <td>6</td>\n",
       "      <td>13</td>\n",
       "      <td>12</td>\n",
       "      <td>21</td>\n",
       "      <td>9</td>\n",
       "      <td>31</td>\n",
       "      <td>21</td>\n",
       "      <td>12</td>\n",
       "      <td>100</td>\n",
       "      <td>37</td>\n",
       "      <td>19</td>\n",
       "    </tr>\n",
       "    <tr>\n",
       "      <th>11</th>\n",
       "      <td>AskFeminists</td>\n",
       "      <td>7</td>\n",
       "      <td>3</td>\n",
       "      <td>6</td>\n",
       "      <td>19</td>\n",
       "      <td>22</td>\n",
       "      <td>17</td>\n",
       "      <td>12</td>\n",
       "      <td>27</td>\n",
       "      <td>14</td>\n",
       "      <td>13</td>\n",
       "      <td>44</td>\n",
       "      <td>100</td>\n",
       "      <td>21</td>\n",
       "    </tr>\n",
       "    <tr>\n",
       "      <th>12</th>\n",
       "      <td>askwomen</td>\n",
       "      <td>4</td>\n",
       "      <td>8</td>\n",
       "      <td>6</td>\n",
       "      <td>3</td>\n",
       "      <td>1</td>\n",
       "      <td>3</td>\n",
       "      <td>11</td>\n",
       "      <td>15</td>\n",
       "      <td>16</td>\n",
       "      <td>34</td>\n",
       "      <td>5</td>\n",
       "      <td>5</td>\n",
       "      <td>100</td>\n",
       "    </tr>\n",
       "  </tbody>\n",
       "</table>\n",
       "</div>"
      ],
      "text/plain": [
       "               subreddit TheRedPill MGTOW MGTOW2 MensRights MensLib  \\\n",
       "0             TheRedPill        100    33     49         21      27   \n",
       "1                  MGTOW         25   100     48         18      17   \n",
       "2                 MGTOW2         28    30    100         21      24   \n",
       "3             MensRights         15    10      9        100      39   \n",
       "4                MensLib         21    10     13         28     100   \n",
       "5       TrollYChromosome         13     9     14         17      16   \n",
       "6              IncelTear         14     9     16          4       6   \n",
       "7      trollxchromosomes          5     5      6          9       9   \n",
       "8   FemaleDatingStrategy          4     7      7          6       3   \n",
       "9   thegirlsurvivalguide          3    10      6          7       1   \n",
       "10              Feminism          4     6      6         13      12   \n",
       "11          AskFeminists          7     3      6         19      22   \n",
       "12              askwomen          4     8      6          3       1   \n",
       "\n",
       "   TrollYChromosome IncelTear trollxchromosomes FemaleDatingStrategy  \\\n",
       "0                34        31                14                    8   \n",
       "1                20        28                 8                   14   \n",
       "2                26        29                10                    8   \n",
       "3                26        19                17                   22   \n",
       "4                44        34                19                   22   \n",
       "5               100        29                22                   16   \n",
       "6                13       100                26                   20   \n",
       "7                18        15               100                   29   \n",
       "8                11        15                23                  100   \n",
       "9                 8         5                14                   28   \n",
       "10               21         9                31                   21   \n",
       "11               17        12                27                   14   \n",
       "12                3        11                15                   16   \n",
       "\n",
       "   thegirlsurvivalguide Feminism AskFeminists askwomen  \n",
       "0                    10       10           14        7  \n",
       "1                    15        4            7       12  \n",
       "2                     8        5            7        8  \n",
       "3                     9       15           26        9  \n",
       "4                     6       13           29       11  \n",
       "5                    18       16           22       19  \n",
       "6                    14       15           21       20  \n",
       "7                    22       36           39       27  \n",
       "8                    19       25           18       30  \n",
       "9                   100       13           16       37  \n",
       "10                   12      100           37       19  \n",
       "11                   13       44          100       21  \n",
       "12                   34        5            5      100  "
      ]
     },
     "execution_count": 13,
     "metadata": {},
     "output_type": "execute_result"
    },
    {
     "name": "stdout",
     "output_type": "stream",
     "text": [
      "time: 3min 26s (started: 2021-12-01 10:27:09 +00:00)\n"
     ]
    }
   ],
   "source": [
    "subreddits=['TheRedPill','MGTOW','MGTOW2','MensRights','MensLib' ,'TrollYChromosome','IncelTear',\n",
    "            'trollxchromosomes', 'FemaleDatingStrategy','thegirlsurvivalguide','Feminism','AskFeminists','askwomen']\n",
    "\n",
    "\n",
    "similarity_matrix=pd.DataFrame(columns=['subreddit']+subreddits)\n",
    "    \n",
    "pronoun = 'identity'\n",
    "pairs=[]\n",
    "for subreddit_row in subreddits:\n",
    "    \n",
    "    row_df=pd.read_excel(My_Folder_Path+'Datasets/Word_Lists/{}_{}.xlsx'.format(subreddit_row,pronoun))\n",
    "    row_df.fillna(0, inplace=True)\n",
    "    row_df['sexism']=row_df['bias']*row_df['freq'].rank(pct=True)#*row_df['hate'].abs()\n",
    "    row_df=row_df.sort_values(by=['sexism'], axis=0,ascending=False)\n",
    "    new_row=[subreddit_row]    \n",
    "    for subreddit_col in subreddits:\n",
    "        \n",
    "        col_df=pd.read_excel(My_Folder_Path+'Datasets/Word_Lists/{}_{}.xlsx'.format(subreddit_col,pronoun))\n",
    "        col_df.fillna(0, inplace=True)\n",
    "        col_df['sexism']=col_df['bias']*col_df['freq'].rank(pct=True)#*col_df['hate'].abs()\n",
    "        col_df=col_df.sort_values(by=['sexism'], axis=0,ascending=False)\n",
    "        if (subreddit_col,subreddit_row) not in pairs:\n",
    "            num_of_commons=len(set(col_df['word'].tail(100)) - (set(col_df['word'].tail(100)) - set(row_df['word'].tail(100))))\n",
    "        if (subreddit_col,subreddit_row) in pairs:\n",
    "            num_of_commons=len(set(col_df['word'].head(100)) - (set(col_df['word'].head(100)) - set(row_df['word'].head(100))))\n",
    "        new_row.append(num_of_commons)\n",
    "        pairs.append((subreddit_row,subreddit_col))\n",
    "        print (\"{} vs {}: {}\".format(subreddit_row,subreddit_col,str(num_of_commons)))\n",
    "    similarity_matrix=similarity_matrix.append(dict(zip(['subreddit']+subreddits,new_row)), ignore_index=True)\n",
    "similarity_matrix"
   ]
  },
  {
   "cell_type": "code",
   "execution_count": 31,
   "metadata": {},
   "outputs": [
    {
     "name": "stdout",
     "output_type": "stream",
     "text": [
      "time: 30.7 ms (started: 2021-12-01 10:56:17 +00:00)\n"
     ]
    }
   ],
   "source": [
    "similarity_matrix.to_excel('Datasets/similarity_matrix.xlsx')"
   ]
  },
  {
   "cell_type": "code",
   "execution_count": 16,
   "metadata": {},
   "outputs": [
    {
     "name": "stdout",
     "output_type": "stream",
     "text": [
      "time: 1.9 ms (started: 2021-12-01 10:37:26 +00:00)\n"
     ]
    }
   ],
   "source": [
    "similarity_matrix=similarity_matrix.set_index('subreddit')"
   ]
  },
  {
   "cell_type": "code",
   "execution_count": 7,
   "metadata": {},
   "outputs": [
    {
     "name": "stdout",
     "output_type": "stream",
     "text": [
      "Shared words biased toward women:  {'professional', 'successful', 'young', 'famous', 'profitable', 'powerful', 'commercial', 'available', 'private', 'expensive', 'responsible', 'accessible', 'athletic', 'stable', 'exceptional'}\n",
      "Shared words biased toward men:  {'pathological', 'unchecked', 'unproductive', 'irrational', 'pathetic', 'paternalistic', 'typical', 'nonsensical', 'mysoginistic', 'laughable', 'logical', 'rhetorical', 'pedantic'}\n",
      "time: 2.4 s (started: 2021-12-03 15:12:20 +00:00)\n"
     ]
    }
   ],
   "source": [
    "subreddits=['TheRedPill','MGTOW','MGTOW2','MensRights','MensLib' ,'TrollYChromosome','IncelTear',\n",
    "            'trollxchromosomes', 'FemaleDatingStrategy','thegirlsurvivalguide','Feminism','AskFeminists','askwomen']\n",
    "\n",
    "subreddit_row='Feminism'\n",
    "subreddit_col='MensRights'\n",
    "pronoun='identity'\n",
    "row_df=pd.read_excel(My_Folder_Path+'Datasets/Word_Lists/{}_{}.xlsx'.format(subreddit_row,pronoun))\n",
    "col_df=pd.read_excel(My_Folder_Path+'Datasets/Word_Lists/{}_{}.xlsx'.format(subreddit_col,pronoun))\n",
    "row_df.fillna(0, inplace=True)\n",
    "row_df['sexism']=row_df['bias']*row_df['freq'].rank(pct=True)#*row_df['hate'].abs()\n",
    "row_df=row_df.sort_values(by=['sexism'], axis=0,ascending=False)\n",
    "col_df.fillna(0, inplace=True)\n",
    "col_df['sexism']=col_df['bias']*col_df['freq'].rank(pct=True)#*col_df['hate'].abs()\n",
    "col_df=col_df.sort_values(by=['sexism'], axis=0,ascending=False)\n",
    "print(\"Shared words biased toward women: \",set(col_df['word'].tail(100)) - (set(col_df['word'].tail(100)) - set(row_df['word'].tail(100))))\n",
    "print(\"Shared words biased toward men: \",set(col_df['word'].head(100)) - (set(col_df['word'].head(100)) - set(row_df['word'].head(100))))"
   ]
  },
  {
   "cell_type": "code",
   "execution_count": 26,
   "metadata": {},
   "outputs": [
    {
     "name": "stdout",
     "output_type": "stream",
     "text": [
      "[100 33 49 21 27 34 31 14 8 10 10 14 7]\n",
      "[25 100 48 18 17 20 28 8 14 15 4 7 12]\n",
      "[28 30 100 21 24 26 29 10 8 8 5 7 8]\n",
      "[15 10 9 100 39 26 19 17 22 9 15 26 9]\n",
      "[21 10 13 28 100 44 34 19 22 6 13 29 11]\n",
      "[13 9 14 17 16 100 29 22 16 18 16 22 19]\n",
      "[14 9 16 4 6 13 100 26 20 14 15 21 20]\n",
      "[5 5 6 9 9 18 15 100 29 22 36 39 27]\n",
      "[4 7 7 6 3 11 15 23 100 19 25 18 30]\n",
      "[3 10 6 7 1 8 5 14 28 100 13 16 37]\n",
      "[4 6 6 13 12 21 9 31 21 12 100 37 19]\n",
      "[7 3 6 19 22 17 12 27 14 13 44 100 21]\n",
      "[4 8 6 3 1 3 11 15 16 34 5 5 100]\n",
      "time: 2.57 ms (started: 2021-12-01 10:53:15 +00:00)\n"
     ]
    }
   ],
   "source": [
    "for i in similarity_matrix.values:\n",
    "    print (i)"
   ]
  },
  {
   "cell_type": "code",
   "execution_count": 24,
   "metadata": {},
   "outputs": [
    {
     "data": {
      "text/plain": [
       "<matplotlib.table.Table at 0x7f343b8d0400>"
      ]
     },
     "execution_count": 24,
     "metadata": {},
     "output_type": "execute_result"
    },
    {
     "data": {
      "image/png": "[encoded data removed]",
      "text/plain": [
       "<Figure size 432x288 with 1 Axes>"
      ]
     },
     "metadata": {
      "needs_background": "light"
     },
     "output_type": "display_data"
    },
    {
     "name": "stdout",
     "output_type": "stream",
     "text": [
      "time: 1.85 s (started: 2021-12-01 10:51:16 +00:00)\n"
     ]
    }
   ],
   "source": [
    "fig, ax = plt.subplots()\n",
    "\n",
    "# hide axes\n",
    "fig.patch.set_visible(False)\n",
    "ax.axis('off')\n",
    "ax.axis('tight')\n",
    "\n",
    "ax.table(cellText=similarity_matrix.values,cellColours=)\n",
    "ax"
   ]
  },
  {
   "cell_type": "markdown",
   "metadata": {
    "id": "u7RbnMBKzHAH"
   },
   "source": [
    "# Word Cloud - Bias Based"
   ]
  },
  {
   "cell_type": "code",
   "execution_count": 173,
   "metadata": {
    "colab": {
     "base_uri": "https://localhost:8080/"
    },
    "executionInfo": {
     "elapsed": 546,
     "status": "ok",
     "timestamp": 1626705769069,
     "user": {
      "displayName": "Vahid Ghafouri (Alumni)",
      "photoUrl": "https://lh3.googleusercontent.com/a-/AOh14GiiG2OgIYwDWYdBXjHKk4ZMJWWcsu93cdBXihlG=s64",
      "userId": "00889646059215470085"
     },
     "user_tz": -120
    },
    "id": "0nsjwZXKNit5",
    "outputId": "31b6288a-ba38-499a-dd2c-63e263b4930d"
   },
   "outputs": [
    {
     "name": "stdout",
     "output_type": "stream",
     "text": [
      "time: 1.87 s (started: 2021-08-16 13:10:38 +00:00)\n"
     ]
    }
   ],
   "source": [
    "bb=pd.read_excel(My_Folder_Path+'Datasets/Word_Lists/{}.xlsx'.format(subreddit_to_crawl))"
   ]
  },
  {
   "cell_type": "code",
   "execution_count": 18,
   "metadata": {
    "colab": {
     "base_uri": "https://localhost:8080/"
    },
    "executionInfo": {
     "elapsed": 380,
     "status": "ok",
     "timestamp": 1626706311695,
     "user": {
      "displayName": "Vahid Ghafouri (Alumni)",
      "photoUrl": "https://lh3.googleusercontent.com/a-/AOh14GiiG2OgIYwDWYdBXjHKk4ZMJWWcsu93cdBXihlG=s64",
      "userId": "00889646059215470085"
     },
     "user_tz": -120
    },
    "id": "0C7OGiEWfwnB",
    "outputId": "a17f4f0f-af80-41c7-f5c5-62eceef5e7c2"
   },
   "outputs": [
    {
     "name": "stdout",
     "output_type": "stream",
     "text": [
      "time: 41.1 ms (started: 2021-08-17 10:06:30 +00:00)\n"
     ]
    }
   ],
   "source": [
    "import imageio\n",
    "\n",
    "male_mask = imageio.imread('Datasets/Word_Clouds/Male_Mask.png')\n",
    "female_mask = imageio.imread('Datasets/Word_Clouds/Female_Mask.png')"
   ]
  },
  {
   "cell_type": "code",
   "execution_count": 19,
   "metadata": {},
   "outputs": [
    {
     "data": {
      "text/plain": [
       "Array([255, 255, 255, 255], dtype=uint8)"
      ]
     },
     "execution_count": 19,
     "metadata": {},
     "output_type": "execute_result"
    },
    {
     "name": "stdout",
     "output_type": "stream",
     "text": [
      "time: 4.44 ms (started: 2021-08-17 10:06:32 +00:00)\n"
     ]
    }
   ],
   "source": [
    "male_mask[0][1]"
   ]
  },
  {
   "cell_type": "code",
   "execution_count": 20,
   "metadata": {
    "colab": {
     "base_uri": "https://localhost:8080/"
    },
    "executionInfo": {
     "elapsed": 217,
     "status": "ok",
     "timestamp": 1626706310151,
     "user": {
      "displayName": "Vahid Ghafouri (Alumni)",
      "photoUrl": "https://lh3.googleusercontent.com/a-/AOh14GiiG2OgIYwDWYdBXjHKk4ZMJWWcsu93cdBXihlG=s64",
      "userId": "00889646059215470085"
     },
     "user_tz": -120
    },
    "id": "TgISD4TtzZhj",
    "outputId": "3a48a39c-c582-45e0-92a0-4da9d2b79c9a"
   },
   "outputs": [
    {
     "name": "stdout",
     "output_type": "stream",
     "text": [
      "time: 1.13 ms (started: 2021-08-17 10:06:33 +00:00)\n"
     ]
    }
   ],
   "source": [
    "misandry_wordcloud = WordCloud(background_color=\"white\",mask=male_mask,random_state=1)\n",
    "misogyny_wordcloud = WordCloud(background_color=\"white\",mask=female_mask,random_state=1)"
   ]
  },
  {
   "cell_type": "code",
   "execution_count": 21,
   "metadata": {
    "colab": {
     "base_uri": "https://localhost:8080/"
    },
    "executionInfo": {
     "elapsed": 3889,
     "status": "ok",
     "timestamp": 1626706379580,
     "user": {
      "displayName": "Vahid Ghafouri (Alumni)",
      "photoUrl": "https://lh3.googleusercontent.com/a-/AOh14GiiG2OgIYwDWYdBXjHKk4ZMJWWcsu93cdBXihlG=s64",
      "userId": "00889646059215470085"
     },
     "user_tz": -120
    },
    "id": "dh7fj9CiWz2E",
    "outputId": "dd6c5565-401e-47e7-dca9-7f3db5ff3ec9"
   },
   "outputs": [
    {
     "name": "stdout",
     "output_type": "stream",
     "text": [
      "time: 1.53 s (started: 2021-08-17 10:06:35 +00:00)\n"
     ]
    }
   ],
   "source": [
    "my_misandry_wordcloud = misandry_wordcloud.generate_from_frequencies(dict(zip(bb['word'],round(bb['bias']*(bb['freq_pctrank']**2)*10000).apply(lambda x: 0 if x<1 else x))))\n",
    "my_misogyny_wordcloud = misogyny_wordcloud.generate_from_frequencies(dict(zip(bb['word'],round(-bb['bias']*(bb['freq_pctrank']**2)*10000).apply(lambda x: 0 if x<1 else x))))"
   ]
  },
  {
   "cell_type": "code",
   "execution_count": null,
   "metadata": {
    "id": "zs4ecCuEGQr-"
   },
   "outputs": [],
   "source": [
    "text_male"
   ]
  },
  {
   "cell_type": "code",
   "execution_count": 22,
   "metadata": {
    "colab": {
     "base_uri": "https://localhost:8080/",
     "height": 728
    },
    "executionInfo": {
     "elapsed": 2265,
     "status": "ok",
     "timestamp": 1626706389756,
     "user": {
      "displayName": "Vahid Ghafouri (Alumni)",
      "photoUrl": "https://lh3.googleusercontent.com/a-/AOh14GiiG2OgIYwDWYdBXjHKk4ZMJWWcsu93cdBXihlG=s64",
      "userId": "00889646059215470085"
     },
     "user_tz": -120
    },
    "id": "yd6wmMsOU9qm",
    "outputId": "a79d496a-8578-4325-e7c4-cff3893f7ae2"
   },
   "outputs": [
    {
     "data": {
      "image/png": "[encoded data removed]",
      "text/plain": [
       "<Figure size 432x288 with 1 Axes>"
      ]
     },
     "metadata": {
      "needs_background": "light"
     },
     "output_type": "display_data"
    },
    {
     "name": "stdout",
     "output_type": "stream",
     "text": [
      "time: 590 ms (started: 2021-08-17 10:06:40 +00:00)\n"
     ]
    }
   ],
   "source": [
    "plt.figure()\n",
    "\n",
    "# plt.imshow(my_misandry_wordcloud)#, interpolation='bilinear')\n",
    "plt.imshow(my_misandry_wordcloud)\n",
    "plt.axis(\"off\")\n",
    "plt.savefig(\"Datasets/Word_Clouds/{}_misandry.jpg\".format(subreddit_to_crawl), format=\"jpg\", dpi=300)\n",
    "\n",
    "plt.show()"
   ]
  },
  {
   "cell_type": "code",
   "execution_count": 23,
   "metadata": {},
   "outputs": [
    {
     "data": {
      "image/png": "[encoded data removed]",
      "text/plain": [
       "<Figure size 432x288 with 1 Axes>"
      ]
     },
     "metadata": {
      "needs_background": "light"
     },
     "output_type": "display_data"
    },
    {
     "name": "stdout",
     "output_type": "stream",
     "text": [
      "time: 603 ms (started: 2021-08-17 10:06:48 +00:00)\n"
     ]
    }
   ],
   "source": [
    "plt.figure()\n",
    "\n",
    "# plt.imshow(my_misandry_wordcloud)#, interpolation='bilinear')\n",
    "plt.imshow(my_misogyny_wordcloud)\n",
    "plt.axis(\"off\")\n",
    "plt.savefig(\"Datasets/Word_Clouds/{}_misogyny.jpg\".format(subreddit_to_crawl), format=\"jpg\", dpi=300)\n",
    "\n",
    "plt.show()"
   ]
  },
  {
   "cell_type": "code",
   "execution_count": 188,
   "metadata": {
    "scrolled": true
   },
   "outputs": [
    {
     "data": {
      "image/png": "[encoded data removed]",
      "text/plain": [
       "<Figure size 864x432 with 1 Axes>"
      ]
     },
     "metadata": {
      "needs_background": "light"
     },
     "output_type": "display_data"
    },
    {
     "name": "stdout",
     "output_type": "stream",
     "text": [
      "time: 702 ms (started: 2021-08-16 13:20:02 +00:00)\n"
     ]
    }
   ],
   "source": [
    "fig = plt.figure(figsize=(12, 6))\n",
    "\n",
    "\n",
    "ax = fig.add_subplot(121)\n",
    "\n",
    "ax.axhline(0.5,xmin=0,xmax=1)\n",
    "ax.plot([sum(bb.bias*bb.freq_pctrank*((bb['sentTextBlob']+bb['sentNLTK'])/2))], [0.5], marker='o', markersize=10, color=\"green\",label='NLTK-TextBlob')\n",
    "ax.plot([sum(bb.bias*bb.freq_pctrank*bb['sentiment'])], [0.5], marker='o', markersize=10, color=\"red\", label='Sentiment Interpolation')\n",
    "ax.set_xlim([-8, 8])\n",
    "\n",
    "ax.legend()\n",
    "ax.set_title(subreddit_to_crawl)\n",
    "ax.axis('off')\n",
    "ax.figure.savefig(\"Datasets/Word_Clouds/{}_sexism_scalar.jpg\".format(subreddit_to_crawl), format=\"jpg\", dpi=300)"
   ]
  }
 ],
 "metadata": {
  "accelerator": "TPU",
  "colab": {
   "collapsed_sections": [
    "u7RbnMBKzHAH"
   ],
   "name": "Gender Bias Reddit.ipynb",
   "provenance": []
  },
  "kernelspec": {
   "display_name": "Python 3 (ipykernel)",
   "language": "python",
   "name": "python3"
  },
  "language_info": {
   "codemirror_mode": {
    "name": "ipython",
    "version": 3
   },
   "file_extension": ".py",
   "mimetype": "text/x-python",
   "name": "python",
   "nbconvert_exporter": "python",
   "pygments_lexer": "ipython3",
   "version": "3.8.10"
  }
 },
 "nbformat": 4,
 "nbformat_minor": 1
}
